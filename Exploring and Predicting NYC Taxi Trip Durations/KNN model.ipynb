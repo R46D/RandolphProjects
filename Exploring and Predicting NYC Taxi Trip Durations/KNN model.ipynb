{
 "cells": [
  {
   "cell_type": "code",
   "execution_count": 1,
   "id": "9920dde7-a9e9-40aa-9b35-92e8d870345b",
   "metadata": {},
   "outputs": [],
   "source": [
    "#Importing the required libraries\n",
    "\n",
    "import pandas as pd\n",
    "import numpy as np\n",
    "import matplotlib.pyplot as plt\n",
    "import seaborn as sns\n",
    "%matplotlib inline\n",
    "\n",
    "import warnings\n",
    "warnings.filterwarnings(\"ignore\")"
   ]
  },
  {
   "cell_type": "code",
   "execution_count": 2,
   "id": "eae3b92e-b67a-4d03-9bea-78b87e48b7ed",
   "metadata": {},
   "outputs": [],
   "source": [
    "#Reading the data\n",
    "\n",
    "data=pd.read_csv('nyc_taxi_trip_duration.csv')"
   ]
  },
  {
   "cell_type": "code",
   "execution_count": 3,
   "id": "7108f5af-346c-4ad9-b5db-1a11608b8864",
   "metadata": {},
   "outputs": [
    {
     "data": {
      "text/plain": [
       "id                    0\n",
       "vendor_id             0\n",
       "pickup_datetime       0\n",
       "dropoff_datetime      0\n",
       "passenger_count       0\n",
       "pickup_longitude      0\n",
       "pickup_latitude       0\n",
       "dropoff_longitude     0\n",
       "dropoff_latitude      0\n",
       "store_and_fwd_flag    0\n",
       "trip_duration         0\n",
       "dtype: int64"
      ]
     },
     "execution_count": 3,
     "metadata": {},
     "output_type": "execute_result"
    }
   ],
   "source": [
    "#Checking for null values\n",
    "\n",
    "data.isnull().sum()"
   ]
  },
  {
   "cell_type": "code",
   "execution_count": 4,
   "id": "437cbd0a-9090-43af-8637-9ede1ab19c89",
   "metadata": {},
   "outputs": [
    {
     "data": {
      "text/plain": [
       "id                     object\n",
       "vendor_id               int64\n",
       "pickup_datetime        object\n",
       "dropoff_datetime       object\n",
       "passenger_count         int64\n",
       "pickup_longitude      float64\n",
       "pickup_latitude       float64\n",
       "dropoff_longitude     float64\n",
       "dropoff_latitude      float64\n",
       "store_and_fwd_flag     object\n",
       "trip_duration           int64\n",
       "dtype: object"
      ]
     },
     "execution_count": 4,
     "metadata": {},
     "output_type": "execute_result"
    }
   ],
   "source": [
    "#checking for data types\n",
    "data.dtypes"
   ]
  },
  {
   "cell_type": "code",
   "execution_count": 5,
   "id": "b0a47739-e4ee-4fc6-8218-4fa033174d62",
   "metadata": {},
   "outputs": [],
   "source": [
    "# converting strings to datetime features\n",
    "data['pickup_datetime'] = pd.to_datetime(data.pickup_datetime)\n",
    "data['dropoff_datetime'] = pd.to_datetime(data.dropoff_datetime)\n",
    "\n",
    "# Converting yes/no flag to 1 and 0\n",
    "data['store_and_fwd_flag'] = 1 * (data.store_and_fwd_flag.values == 'Y')"
   ]
  },
  {
   "cell_type": "code",
   "execution_count": 6,
   "id": "adf6f339-a219-4112-95e2-bd6839cff105",
   "metadata": {},
   "outputs": [],
   "source": [
    "#Feature engineering on datetime values\n",
    "\n",
    "data['pickup_dayofweek'] = data['pickup_datetime'].dt.dayofweek\n",
    "#data['dropoff_dayofweek'] = data['dropoff_datetime'].dt.dayofweek\n",
    "\n",
    "\n",
    "data['pickup_month'] = data['pickup_datetime'].dt.month\n",
    "#data['dropoff_month'] = data['dropoff_datetime'].dt.month\n",
    "\n",
    "data['pickup_week'] = data['pickup_datetime'].dt.week\n",
    "#data['dropoff_week'] = data['dropoff_datetime'].dt.week\n",
    "\n",
    "data['pickup_day'] = data['pickup_datetime'].dt.day\n",
    "#data['dropoff_day'] = data['dropoff_datetime'].dt.day\n",
    "\n",
    "\n",
    "data['pickup_hour'] = data['pickup_datetime'].dt.hour\n",
    "#data['dropoff_hour'] = data['dropoff_datetime'].dt.hour\n",
    "\n",
    "\n"
   ]
  },
  {
   "cell_type": "code",
   "execution_count": 7,
   "id": "7c37d161-e5b5-4ea7-8c0d-21f15d58d0e6",
   "metadata": {},
   "outputs": [],
   "source": [
    "#Calculating trip distance from longitude and Latitude values\n",
    "\n",
    "from math import sin, cos, sqrt, atan2, radians\n",
    "\n",
    "def Distance(row):\n",
    "    R = 6373.0  # approximate radius of earth in km\n",
    "    x = radians(row['pickup_latitude'])\n",
    "    y = radians(row['pickup_longitude'])\n",
    "    x1 = radians(row['dropoff_latitude'])\n",
    "    y1 = radians(row['dropoff_longitude'])\n",
    "    \n",
    "    d1 = y1 - y\n",
    "    d2 = x1 - x\n",
    "    \n",
    "    x3 = sin(d2 / 2)**2 + cos(x) * cos(x1) * sin(d1 / 2)**2\n",
    "    y3 = 2 * atan2(sqrt(x3), sqrt(1 - x3))\n",
    "    result = R * y3\n",
    "    \n",
    "    return result"
   ]
  },
  {
   "cell_type": "code",
   "execution_count": 8,
   "id": "0a19abac-3be0-4459-bc37-9a857c2d519f",
   "metadata": {},
   "outputs": [
    {
     "data": {
      "text/html": [
       "<div>\n",
       "<style scoped>\n",
       "    .dataframe tbody tr th:only-of-type {\n",
       "        vertical-align: middle;\n",
       "    }\n",
       "\n",
       "    .dataframe tbody tr th {\n",
       "        vertical-align: top;\n",
       "    }\n",
       "\n",
       "    .dataframe thead th {\n",
       "        text-align: right;\n",
       "    }\n",
       "</style>\n",
       "<table border=\"1\" class=\"dataframe\">\n",
       "  <thead>\n",
       "    <tr style=\"text-align: right;\">\n",
       "      <th></th>\n",
       "      <th>id</th>\n",
       "      <th>vendor_id</th>\n",
       "      <th>pickup_datetime</th>\n",
       "      <th>dropoff_datetime</th>\n",
       "      <th>passenger_count</th>\n",
       "      <th>pickup_longitude</th>\n",
       "      <th>pickup_latitude</th>\n",
       "      <th>dropoff_longitude</th>\n",
       "      <th>dropoff_latitude</th>\n",
       "      <th>store_and_fwd_flag</th>\n",
       "      <th>trip_duration</th>\n",
       "      <th>pickup_dayofweek</th>\n",
       "      <th>pickup_month</th>\n",
       "      <th>pickup_week</th>\n",
       "      <th>pickup_day</th>\n",
       "      <th>pickup_hour</th>\n",
       "      <th>trip_distance</th>\n",
       "    </tr>\n",
       "  </thead>\n",
       "  <tbody>\n",
       "    <tr>\n",
       "      <th>0</th>\n",
       "      <td>id1080784</td>\n",
       "      <td>2</td>\n",
       "      <td>2016-02-29 16:40:21</td>\n",
       "      <td>2016-02-29 16:47:01</td>\n",
       "      <td>1</td>\n",
       "      <td>-73.953918</td>\n",
       "      <td>40.778873</td>\n",
       "      <td>-73.963875</td>\n",
       "      <td>40.771164</td>\n",
       "      <td>0</td>\n",
       "      <td>400</td>\n",
       "      <td>0</td>\n",
       "      <td>2</td>\n",
       "      <td>9</td>\n",
       "      <td>29</td>\n",
       "      <td>16</td>\n",
       "      <td>1.199449</td>\n",
       "    </tr>\n",
       "    <tr>\n",
       "      <th>1</th>\n",
       "      <td>id0889885</td>\n",
       "      <td>1</td>\n",
       "      <td>2016-03-11 23:35:37</td>\n",
       "      <td>2016-03-11 23:53:57</td>\n",
       "      <td>2</td>\n",
       "      <td>-73.988312</td>\n",
       "      <td>40.731743</td>\n",
       "      <td>-73.994751</td>\n",
       "      <td>40.694931</td>\n",
       "      <td>0</td>\n",
       "      <td>1100</td>\n",
       "      <td>4</td>\n",
       "      <td>3</td>\n",
       "      <td>10</td>\n",
       "      <td>11</td>\n",
       "      <td>23</td>\n",
       "      <td>4.130407</td>\n",
       "    </tr>\n",
       "    <tr>\n",
       "      <th>2</th>\n",
       "      <td>id0857912</td>\n",
       "      <td>2</td>\n",
       "      <td>2016-02-21 17:59:33</td>\n",
       "      <td>2016-02-21 18:26:48</td>\n",
       "      <td>2</td>\n",
       "      <td>-73.997314</td>\n",
       "      <td>40.721458</td>\n",
       "      <td>-73.948029</td>\n",
       "      <td>40.774918</td>\n",
       "      <td>0</td>\n",
       "      <td>1635</td>\n",
       "      <td>6</td>\n",
       "      <td>2</td>\n",
       "      <td>7</td>\n",
       "      <td>21</td>\n",
       "      <td>17</td>\n",
       "      <td>7.253029</td>\n",
       "    </tr>\n",
       "    <tr>\n",
       "      <th>3</th>\n",
       "      <td>id3744273</td>\n",
       "      <td>2</td>\n",
       "      <td>2016-01-05 09:44:31</td>\n",
       "      <td>2016-01-05 10:03:32</td>\n",
       "      <td>6</td>\n",
       "      <td>-73.961670</td>\n",
       "      <td>40.759720</td>\n",
       "      <td>-73.956779</td>\n",
       "      <td>40.780628</td>\n",
       "      <td>0</td>\n",
       "      <td>1141</td>\n",
       "      <td>1</td>\n",
       "      <td>1</td>\n",
       "      <td>1</td>\n",
       "      <td>5</td>\n",
       "      <td>9</td>\n",
       "      <td>2.361839</td>\n",
       "    </tr>\n",
       "    <tr>\n",
       "      <th>4</th>\n",
       "      <td>id0232939</td>\n",
       "      <td>1</td>\n",
       "      <td>2016-02-17 06:42:23</td>\n",
       "      <td>2016-02-17 06:56:31</td>\n",
       "      <td>1</td>\n",
       "      <td>-74.017120</td>\n",
       "      <td>40.708469</td>\n",
       "      <td>-73.988182</td>\n",
       "      <td>40.740631</td>\n",
       "      <td>0</td>\n",
       "      <td>848</td>\n",
       "      <td>2</td>\n",
       "      <td>2</td>\n",
       "      <td>7</td>\n",
       "      <td>17</td>\n",
       "      <td>6</td>\n",
       "      <td>4.329893</td>\n",
       "    </tr>\n",
       "  </tbody>\n",
       "</table>\n",
       "</div>"
      ],
      "text/plain": [
       "          id  vendor_id     pickup_datetime    dropoff_datetime  \\\n",
       "0  id1080784          2 2016-02-29 16:40:21 2016-02-29 16:47:01   \n",
       "1  id0889885          1 2016-03-11 23:35:37 2016-03-11 23:53:57   \n",
       "2  id0857912          2 2016-02-21 17:59:33 2016-02-21 18:26:48   \n",
       "3  id3744273          2 2016-01-05 09:44:31 2016-01-05 10:03:32   \n",
       "4  id0232939          1 2016-02-17 06:42:23 2016-02-17 06:56:31   \n",
       "\n",
       "   passenger_count  pickup_longitude  pickup_latitude  dropoff_longitude  \\\n",
       "0                1        -73.953918        40.778873         -73.963875   \n",
       "1                2        -73.988312        40.731743         -73.994751   \n",
       "2                2        -73.997314        40.721458         -73.948029   \n",
       "3                6        -73.961670        40.759720         -73.956779   \n",
       "4                1        -74.017120        40.708469         -73.988182   \n",
       "\n",
       "   dropoff_latitude  store_and_fwd_flag  trip_duration  pickup_dayofweek  \\\n",
       "0         40.771164                   0            400                 0   \n",
       "1         40.694931                   0           1100                 4   \n",
       "2         40.774918                   0           1635                 6   \n",
       "3         40.780628                   0           1141                 1   \n",
       "4         40.740631                   0            848                 2   \n",
       "\n",
       "   pickup_month  pickup_week  pickup_day  pickup_hour  trip_distance  \n",
       "0             2            9          29           16       1.199449  \n",
       "1             3           10          11           23       4.130407  \n",
       "2             2            7          21           17       7.253029  \n",
       "3             1            1           5            9       2.361839  \n",
       "4             2            7          17            6       4.329893  "
      ]
     },
     "execution_count": 8,
     "metadata": {},
     "output_type": "execute_result"
    }
   ],
   "source": [
    "data['trip_distance'] = data.apply(lambda row: Distance(row), axis= 1)\n",
    "data.head()"
   ]
  },
  {
   "cell_type": "code",
   "execution_count": 9,
   "id": "da7103c6-c1d2-40b1-98f2-0bfa2a94b9ea",
   "metadata": {},
   "outputs": [
    {
     "data": {
      "text/plain": [
       "count    202.589444\n",
       "mean       0.264508\n",
       "std        1.073507\n",
       "min        0.000278\n",
       "25%        0.110278\n",
       "50%        0.184167\n",
       "75%        0.298611\n",
       "max      538.815556\n",
       "Name: trip_duration, dtype: float64"
      ]
     },
     "execution_count": 9,
     "metadata": {},
     "output_type": "execute_result"
    }
   ],
   "source": [
    "#checking for outliers\n",
    "\n",
    "data['trip_duration'].describe()/3600"
   ]
  },
  {
   "cell_type": "code",
   "execution_count": 10,
   "id": "77a82510-0e8a-486b-b204-cbe00c01757b",
   "metadata": {},
   "outputs": [],
   "source": [
    "#removing outliers\n",
    "\n",
    "Q1 = data['trip_duration'].quantile(0.25)\n",
    "Q3 = data['trip_duration'].quantile(0.75)\n",
    "IQR = Q3 - Q1    #IQR is interquartile range. \n",
    "\n",
    "filter = (data['trip_duration'] >= Q1 - 1.5 * IQR) & (data['trip_duration'] <= Q3 + 1.5 *IQR)\n",
    "data_cleaned= data.loc[filter]  "
   ]
  },
  {
   "cell_type": "code",
   "execution_count": 11,
   "id": "56dfe27f-2c2e-4183-a95c-da2c570c9269",
   "metadata": {},
   "outputs": [
    {
     "data": {
      "text/plain": [
       "count    192.321944\n",
       "mean       0.203375\n",
       "std        0.124510\n",
       "min        0.000278\n",
       "25%        0.106667\n",
       "50%        0.175556\n",
       "75%        0.275556\n",
       "max        0.581111\n",
       "Name: trip_duration, dtype: float64"
      ]
     },
     "execution_count": 11,
     "metadata": {},
     "output_type": "execute_result"
    }
   ],
   "source": [
    "data_cleaned['trip_duration'].describe()/3600"
   ]
  },
  {
   "cell_type": "code",
   "execution_count": 12,
   "id": "f6c62cb6-1f89-4b94-8b7c-60b0cdd7193d",
   "metadata": {},
   "outputs": [],
   "source": [
    "data_predict=data_cleaned"
   ]
  },
  {
   "cell_type": "code",
   "execution_count": 13,
   "id": "0cdb1b97-c336-44b9-90e1-3884cc11fdcc",
   "metadata": {},
   "outputs": [
    {
     "data": {
      "text/plain": [
       "((692359, 9), (692359,))"
      ]
     },
     "execution_count": 13,
     "metadata": {},
     "output_type": "execute_result"
    }
   ],
   "source": [
    "#seperating independent and dependent variables\n",
    "x = data_predict.drop(['id','dropoff_datetime','pickup_datetime','dropoff_longitude','pickup_longitude','dropoff_latitude','pickup_latitude','trip_duration'],axis=1)\n",
    "y =data_predict['trip_duration']\n",
    "x.shape, y.shape"
   ]
  },
  {
   "cell_type": "code",
   "execution_count": 14,
   "id": "d54bcaa6-766b-4761-bef7-6cae43f36bcd",
   "metadata": {},
   "outputs": [],
   "source": [
    "## Importing the MinMax Scaler\n",
    "from sklearn.preprocessing import MinMaxScaler\n",
    "scaler = MinMaxScaler()\n",
    "x_scaled = scaler.fit_transform(x)"
   ]
  },
  {
   "cell_type": "code",
   "execution_count": 15,
   "id": "8a98170b-cfed-43d2-a987-b74381ff5480",
   "metadata": {},
   "outputs": [],
   "source": [
    "x = pd.DataFrame(x_scaled, columns = x.columns)"
   ]
  },
  {
   "cell_type": "code",
   "execution_count": 16,
   "id": "b81b0220-9b66-4e02-bd1b-50381191f4ce",
   "metadata": {},
   "outputs": [
    {
     "data": {
      "text/html": [
       "<div>\n",
       "<style scoped>\n",
       "    .dataframe tbody tr th:only-of-type {\n",
       "        vertical-align: middle;\n",
       "    }\n",
       "\n",
       "    .dataframe tbody tr th {\n",
       "        vertical-align: top;\n",
       "    }\n",
       "\n",
       "    .dataframe thead th {\n",
       "        text-align: right;\n",
       "    }\n",
       "</style>\n",
       "<table border=\"1\" class=\"dataframe\">\n",
       "  <thead>\n",
       "    <tr style=\"text-align: right;\">\n",
       "      <th></th>\n",
       "      <th>vendor_id</th>\n",
       "      <th>passenger_count</th>\n",
       "      <th>store_and_fwd_flag</th>\n",
       "      <th>pickup_dayofweek</th>\n",
       "      <th>pickup_month</th>\n",
       "      <th>pickup_week</th>\n",
       "      <th>pickup_day</th>\n",
       "      <th>pickup_hour</th>\n",
       "      <th>trip_distance</th>\n",
       "    </tr>\n",
       "  </thead>\n",
       "  <tbody>\n",
       "    <tr>\n",
       "      <th>0</th>\n",
       "      <td>1.0</td>\n",
       "      <td>0.111111</td>\n",
       "      <td>0.0</td>\n",
       "      <td>0.000000</td>\n",
       "      <td>0.2</td>\n",
       "      <td>0.153846</td>\n",
       "      <td>0.933333</td>\n",
       "      <td>0.695652</td>\n",
       "      <td>0.000966</td>\n",
       "    </tr>\n",
       "    <tr>\n",
       "      <th>1</th>\n",
       "      <td>0.0</td>\n",
       "      <td>0.222222</td>\n",
       "      <td>0.0</td>\n",
       "      <td>0.666667</td>\n",
       "      <td>0.4</td>\n",
       "      <td>0.173077</td>\n",
       "      <td>0.333333</td>\n",
       "      <td>1.000000</td>\n",
       "      <td>0.003327</td>\n",
       "    </tr>\n",
       "    <tr>\n",
       "      <th>2</th>\n",
       "      <td>1.0</td>\n",
       "      <td>0.222222</td>\n",
       "      <td>0.0</td>\n",
       "      <td>1.000000</td>\n",
       "      <td>0.2</td>\n",
       "      <td>0.115385</td>\n",
       "      <td>0.666667</td>\n",
       "      <td>0.739130</td>\n",
       "      <td>0.005843</td>\n",
       "    </tr>\n",
       "    <tr>\n",
       "      <th>3</th>\n",
       "      <td>1.0</td>\n",
       "      <td>0.666667</td>\n",
       "      <td>0.0</td>\n",
       "      <td>0.166667</td>\n",
       "      <td>0.0</td>\n",
       "      <td>0.000000</td>\n",
       "      <td>0.133333</td>\n",
       "      <td>0.391304</td>\n",
       "      <td>0.001903</td>\n",
       "    </tr>\n",
       "    <tr>\n",
       "      <th>4</th>\n",
       "      <td>0.0</td>\n",
       "      <td>0.111111</td>\n",
       "      <td>0.0</td>\n",
       "      <td>0.333333</td>\n",
       "      <td>0.2</td>\n",
       "      <td>0.115385</td>\n",
       "      <td>0.533333</td>\n",
       "      <td>0.260870</td>\n",
       "      <td>0.003488</td>\n",
       "    </tr>\n",
       "  </tbody>\n",
       "</table>\n",
       "</div>"
      ],
      "text/plain": [
       "   vendor_id  passenger_count  store_and_fwd_flag  pickup_dayofweek  \\\n",
       "0        1.0         0.111111                 0.0          0.000000   \n",
       "1        0.0         0.222222                 0.0          0.666667   \n",
       "2        1.0         0.222222                 0.0          1.000000   \n",
       "3        1.0         0.666667                 0.0          0.166667   \n",
       "4        0.0         0.111111                 0.0          0.333333   \n",
       "\n",
       "   pickup_month  pickup_week  pickup_day  pickup_hour  trip_distance  \n",
       "0           0.2     0.153846    0.933333     0.695652       0.000966  \n",
       "1           0.4     0.173077    0.333333     1.000000       0.003327  \n",
       "2           0.2     0.115385    0.666667     0.739130       0.005843  \n",
       "3           0.0     0.000000    0.133333     0.391304       0.001903  \n",
       "4           0.2     0.115385    0.533333     0.260870       0.003488  "
      ]
     },
     "execution_count": 16,
     "metadata": {},
     "output_type": "execute_result"
    }
   ],
   "source": [
    "x.head()"
   ]
  },
  {
   "cell_type": "code",
   "execution_count": 17,
   "id": "01653a8d-8e42-40d4-bcb7-699971ba5a40",
   "metadata": {},
   "outputs": [
    {
     "data": {
      "text/plain": [
       "0     400\n",
       "1    1100\n",
       "2    1635\n",
       "3    1141\n",
       "4     848\n",
       "Name: trip_duration, dtype: int64"
      ]
     },
     "execution_count": 17,
     "metadata": {},
     "output_type": "execute_result"
    }
   ],
   "source": [
    "y.head()"
   ]
  },
  {
   "cell_type": "code",
   "execution_count": 18,
   "id": "89531c18-58a7-4ae7-88f9-290ce49bccf0",
   "metadata": {},
   "outputs": [],
   "source": [
    "# Importing the train test split function\n",
    "from sklearn.model_selection import train_test_split\n",
    "train_x,test_x,train_y,test_y = train_test_split(x , y, random_state=56)"
   ]
  },
  {
   "cell_type": "code",
   "execution_count": 19,
   "id": "e904cd66-4743-4279-a695-e0dd8779c7e0",
   "metadata": {},
   "outputs": [],
   "source": [
    "from sklearn.neighbors import KNeighborsRegressor as KNN\n",
    "from sklearn.metrics import mean_squared_error as mse\n",
    "from sklearn.metrics import mean_absolute_error as mae"
   ]
  },
  {
   "cell_type": "code",
   "execution_count": 20,
   "id": "83b08941-5f60-4bc8-9ef6-93dc60dec32b",
   "metadata": {},
   "outputs": [],
   "source": [
    "# Creating instance of KNN\n",
    "reg = KNN(n_neighbors = 8)"
   ]
  },
  {
   "cell_type": "code",
   "execution_count": 21,
   "id": "aada4678-3c21-4261-a839-c65585e6deb4",
   "metadata": {},
   "outputs": [
    {
     "data": {
      "text/plain": [
       "KNeighborsRegressor(n_neighbors=8)"
      ]
     },
     "execution_count": 21,
     "metadata": {},
     "output_type": "execute_result"
    }
   ],
   "source": [
    "# Fitting the model\n",
    "reg.fit(train_x, train_y)\n"
   ]
  },
  {
   "cell_type": "code",
   "execution_count": 22,
   "id": "8c946c9a-d85e-4d6c-ae27-c46d56caa7d9",
   "metadata": {},
   "outputs": [
    {
     "name": "stdout",
     "output_type": "stream",
     "text": [
      "Test MSE     109275.15509046955\n"
     ]
    }
   ],
   "source": [
    "# Predicting over the Test Set and calculating MSE\n",
    "test_predict = reg.predict(test_x)\n",
    "k = mse(test_predict, test_y)\n",
    "print('Test MSE    ', k )"
   ]
  },
  {
   "cell_type": "code",
   "execution_count": 23,
   "id": "4cb9721a-f4d4-4b10-833b-cceb0448a359",
   "metadata": {},
   "outputs": [
    {
     "name": "stdout",
     "output_type": "stream",
     "text": [
      "Test MSE     82917.06918566051\n"
     ]
    }
   ],
   "source": [
    "#Predicting over the Train set and Calculating MSE\n",
    "\n",
    "test_predict = reg.predict(train_x)\n",
    "k = mse(test_predict, train_y)\n",
    "print('Test MSE    ', k )"
   ]
  },
  {
   "cell_type": "code",
   "execution_count": 24,
   "id": "8f3b30fe-daf8-4fcf-aced-5ac583d2e18c",
   "metadata": {},
   "outputs": [],
   "source": [
    "#finding best value of k neighbours\n",
    "\n",
    "def Elbow(K):\n",
    "  #initiating empty list\n",
    "    test_mse = []\n",
    "  \n",
    "  #training model for evey value of K\n",
    "    for i in K:\n",
    "        #Instance of KNN\n",
    "        reg = KNN(n_neighbors = i)\n",
    "        reg.fit(train_x, train_y)\n",
    "        #Appending mse value to empty list claculated using the predictions\n",
    "        tmp = reg.predict(test_x)\n",
    "        tmp = mse(tmp,test_y)\n",
    "        test_mse.append(tmp)\n",
    "    \n",
    "    return test_mse"
   ]
  },
  {
   "cell_type": "code",
   "execution_count": 25,
   "id": "1f4ba99f-7490-463e-a2ea-0126872163ef",
   "metadata": {},
   "outputs": [],
   "source": [
    "#Defining K range\n",
    "k = range(1,40)"
   ]
  },
  {
   "cell_type": "code",
   "execution_count": 26,
   "id": "e9652931-b6ce-44c4-8d20-d2ab18cb2277",
   "metadata": {},
   "outputs": [],
   "source": [
    "# calling above defined function\n",
    "test = Elbow(k)"
   ]
  },
  {
   "cell_type": "code",
   "execution_count": 27,
   "id": "72dc05d1-c50e-420c-b99f-5043963196da",
   "metadata": {},
   "outputs": [
    {
     "data": {
      "text/plain": [
       "Text(0.5, 1.0, 'Elbow Curve for test')"
      ]
     },
     "execution_count": 27,
     "metadata": {},
     "output_type": "execute_result"
    },
    {
     "data": {
      "image/png": "[encoded data removed]",
      "text/plain": [
       "<Figure size 432x288 with 1 Axes>"
      ]
     },
     "metadata": {
      "needs_background": "light"
     },
     "output_type": "display_data"
    }
   ],
   "source": [
    "# plotting the Curves\n",
    "plt.plot(k, test)\n",
    "plt.xlabel('K Neighbors')\n",
    "plt.ylabel('Test Mean Squared Error')\n",
    "plt.title('Elbow Curve for test')"
   ]
  },
  {
   "cell_type": "code",
   "execution_count": null,
   "id": "2109ccea-a26d-48e6-b88a-2d72825ca6b9",
   "metadata": {},
   "outputs": [],
   "source": [
    "#we can see error is less when K is 5\n",
    "\n",
    "# Creating instance of KNN\n",
    "\n",
    "reg = KNN(n_neighbors = 5)\n",
    "\n",
    "# Fitting the model\n",
    "reg.fit(train_x, train_y)\n",
    "\n",
    "# Predicting over the Train Set and Test Set\n",
    "test_predict = reg.predict(test_x)\n",
    "train_predict=reg.predict(train_x)\n"
   ]
  },
  {
   "cell_type": "code",
   "execution_count": null,
   "id": "8bb96e55-c2bb-4b16-a060-32018b9be293",
   "metadata": {},
   "outputs": [],
   "source": [
    "#Evaluation\n",
    "\n",
    "\n",
    "k = mse(train_predict, train_y)\n",
    "print('Train MSE    ', k )\n",
    "m = mse(test_predict, test_y)\n",
    "print('Test MSE    ', m )\n",
    "\n",
    "\n",
    "j=mse(train_predict,train_y,squared=False)\n",
    "print('Train RMSE   ',j)\n",
    "n=mse(test_predict,test_y,squared=False)\n",
    "print('Test RMSE   ',n)\n",
    "\n",
    "l=mae(train_predict, train_y)\n",
    "print('Train MAE    ',l)\n",
    "o=mae(test_predict, test_y)\n",
    "print('Test MAE    ',o)\n"
   ]
  },
  {
   "cell_type": "code",
   "execution_count": null,
   "id": "dec2b92c-735c-4d60-95ed-a652376d14e4",
   "metadata": {},
   "outputs": [],
   "source": [
    "name2=['Train MSE','Test MSE']\n",
    "values2=[k,m]\n",
    "name3=['Train RMSE','Test RMSE']\n",
    "values3=[j,n]\n",
    "name4=['Train MAE','Test MAE']\n",
    "values4=[l,o]"
   ]
  },
  {
   "cell_type": "code",
   "execution_count": 54,
   "id": "b7afe0bc-ed4e-4651-8cbd-284f1a79282c",
   "metadata": {},
   "outputs": [
    {
     "data": {
      "image/png": "[encoded data removed]",
      "text/plain": [
       "<Figure size 1440x720 with 3 Axes>"
      ]
     },
     "metadata": {
      "needs_background": "light"
     },
     "output_type": "display_data"
    }
   ],
   "source": [
    "fig, ax = plt.subplots(1,3,figsize=(20,10))\n",
    "fig.suptitle(\"KNN Model Scores\", fontsize= 25)\n",
    "ax[0].bar(name2, values2)\n",
    "ax[1].bar(name3, values3)\n",
    "ax[2].bar(name4, values4)\n",
    "plt.show()"
   ]
  }
 ],
 "metadata": {
  "kernelspec": {
   "display_name": "Python 3 (ipykernel)",
   "language": "python",
   "name": "python3"
  },
  "language_info": {
   "codemirror_mode": {
    "name": "ipython",
    "version": 3
   },
   "file_extension": ".py",
   "mimetype": "text/x-python",
   "name": "python",
   "nbconvert_exporter": "python",
   "pygments_lexer": "ipython3",
   "version": "3.9.7"
  }
 },
 "nbformat": 4,
 "nbformat_minor": 5
}
