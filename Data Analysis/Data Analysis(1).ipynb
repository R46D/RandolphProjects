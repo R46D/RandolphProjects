{
 "cells": [
  {
   "cell_type": "markdown",
   "id": "39494099-e753-43e5-a36f-7a71f8caec99",
   "metadata": {},
   "source": [
    "<H2> EXPLORATORY DATA ANALYSIS <H2>"
   ]
  },
  {
   "cell_type": "markdown",
   "id": "7102d507-3a89-4866-9606-1414dd6531d4",
   "metadata": {},
   "source": [
    "In this project we will import the already cleaned data set \"Automobiles.csv\" and look at different factors that affect the price of a car"
   ]
  },
  {
   "cell_type": "markdown",
   "id": "5ea964a9-3d95-480c-aaa5-c220e13c51c9",
   "metadata": {},
   "source": [
    "First we import the required libraries"
   ]
  },
  {
   "cell_type": "code",
   "execution_count": 1,
   "id": "39d8cebe-3cb3-4890-8374-692b658bd3ca",
   "metadata": {},
   "outputs": [],
   "source": [
    "import pandas as pd\n",
    "import numpy as np"
   ]
  },
  {
   "cell_type": "markdown",
   "id": "d4db34a2-ccce-414f-974e-4df1b95f7ba8",
   "metadata": {},
   "source": [
    "Let's import the data set"
   ]
  },
  {
   "cell_type": "code",
   "execution_count": 2,
   "id": "e26a1c16-ff00-4881-bd34-5facf5f0f971",
   "metadata": {},
   "outputs": [
    {
     "data": {
      "text/html": [
       "<div>\n",
       "<style scoped>\n",
       "    .dataframe tbody tr th:only-of-type {\n",
       "        vertical-align: middle;\n",
       "    }\n",
       "\n",
       "    .dataframe tbody tr th {\n",
       "        vertical-align: top;\n",
       "    }\n",
       "\n",
       "    .dataframe thead th {\n",
       "        text-align: right;\n",
       "    }\n",
       "</style>\n",
       "<table border=\"1\" class=\"dataframe\">\n",
       "  <thead>\n",
       "    <tr style=\"text-align: right;\">\n",
       "      <th></th>\n",
       "      <th>symboling</th>\n",
       "      <th>normalized-losses</th>\n",
       "      <th>make</th>\n",
       "      <th>fuel-type</th>\n",
       "      <th>aspiration</th>\n",
       "      <th>num-of-doors</th>\n",
       "      <th>body-style</th>\n",
       "      <th>drive-wheels</th>\n",
       "      <th>engine-location</th>\n",
       "      <th>wheel-base</th>\n",
       "      <th>...</th>\n",
       "      <th>engine-size</th>\n",
       "      <th>fuel-system</th>\n",
       "      <th>bore</th>\n",
       "      <th>stroke</th>\n",
       "      <th>compression-ratio</th>\n",
       "      <th>horsepower</th>\n",
       "      <th>peak-rpm</th>\n",
       "      <th>city-mpg</th>\n",
       "      <th>highway-mpg</th>\n",
       "      <th>price</th>\n",
       "    </tr>\n",
       "  </thead>\n",
       "  <tbody>\n",
       "    <tr>\n",
       "      <th>0</th>\n",
       "      <td>3.0</td>\n",
       "      <td>99.542289</td>\n",
       "      <td>alfa-romero</td>\n",
       "      <td>gas</td>\n",
       "      <td>std</td>\n",
       "      <td>two</td>\n",
       "      <td>convertible</td>\n",
       "      <td>rwd</td>\n",
       "      <td>front</td>\n",
       "      <td>88.6</td>\n",
       "      <td>...</td>\n",
       "      <td>130</td>\n",
       "      <td>mpfi</td>\n",
       "      <td>3.47</td>\n",
       "      <td>2.68</td>\n",
       "      <td>9.0</td>\n",
       "      <td>111.0</td>\n",
       "      <td>5000.0</td>\n",
       "      <td>21</td>\n",
       "      <td>27</td>\n",
       "      <td>13495</td>\n",
       "    </tr>\n",
       "    <tr>\n",
       "      <th>1</th>\n",
       "      <td>3.0</td>\n",
       "      <td>99.542289</td>\n",
       "      <td>alfa-romero</td>\n",
       "      <td>gas</td>\n",
       "      <td>std</td>\n",
       "      <td>two</td>\n",
       "      <td>convertible</td>\n",
       "      <td>rwd</td>\n",
       "      <td>front</td>\n",
       "      <td>88.6</td>\n",
       "      <td>...</td>\n",
       "      <td>130</td>\n",
       "      <td>mpfi</td>\n",
       "      <td>3.47</td>\n",
       "      <td>2.68</td>\n",
       "      <td>9.0</td>\n",
       "      <td>111.0</td>\n",
       "      <td>5000.0</td>\n",
       "      <td>21</td>\n",
       "      <td>27</td>\n",
       "      <td>16500</td>\n",
       "    </tr>\n",
       "    <tr>\n",
       "      <th>2</th>\n",
       "      <td>1.0</td>\n",
       "      <td>99.542289</td>\n",
       "      <td>alfa-romero</td>\n",
       "      <td>gas</td>\n",
       "      <td>std</td>\n",
       "      <td>two</td>\n",
       "      <td>hatchback</td>\n",
       "      <td>rwd</td>\n",
       "      <td>front</td>\n",
       "      <td>94.5</td>\n",
       "      <td>...</td>\n",
       "      <td>152</td>\n",
       "      <td>mpfi</td>\n",
       "      <td>2.68</td>\n",
       "      <td>3.47</td>\n",
       "      <td>9.0</td>\n",
       "      <td>154.0</td>\n",
       "      <td>5000.0</td>\n",
       "      <td>19</td>\n",
       "      <td>26</td>\n",
       "      <td>16500</td>\n",
       "    </tr>\n",
       "    <tr>\n",
       "      <th>3</th>\n",
       "      <td>2.0</td>\n",
       "      <td>164.000000</td>\n",
       "      <td>audi</td>\n",
       "      <td>gas</td>\n",
       "      <td>std</td>\n",
       "      <td>four</td>\n",
       "      <td>sedan</td>\n",
       "      <td>fwd</td>\n",
       "      <td>front</td>\n",
       "      <td>99.8</td>\n",
       "      <td>...</td>\n",
       "      <td>109</td>\n",
       "      <td>mpfi</td>\n",
       "      <td>3.19</td>\n",
       "      <td>3.40</td>\n",
       "      <td>10.0</td>\n",
       "      <td>102.0</td>\n",
       "      <td>5500.0</td>\n",
       "      <td>24</td>\n",
       "      <td>30</td>\n",
       "      <td>13950</td>\n",
       "    </tr>\n",
       "    <tr>\n",
       "      <th>4</th>\n",
       "      <td>2.0</td>\n",
       "      <td>164.000000</td>\n",
       "      <td>audi</td>\n",
       "      <td>gas</td>\n",
       "      <td>std</td>\n",
       "      <td>four</td>\n",
       "      <td>sedan</td>\n",
       "      <td>4wd</td>\n",
       "      <td>front</td>\n",
       "      <td>99.4</td>\n",
       "      <td>...</td>\n",
       "      <td>136</td>\n",
       "      <td>mpfi</td>\n",
       "      <td>3.19</td>\n",
       "      <td>3.40</td>\n",
       "      <td>8.0</td>\n",
       "      <td>115.0</td>\n",
       "      <td>5500.0</td>\n",
       "      <td>18</td>\n",
       "      <td>22</td>\n",
       "      <td>17450</td>\n",
       "    </tr>\n",
       "  </tbody>\n",
       "</table>\n",
       "<p>5 rows × 26 columns</p>\n",
       "</div>"
      ],
      "text/plain": [
       "   symboling  normalized-losses         make fuel-type aspiration  \\\n",
       "0        3.0          99.542289  alfa-romero       gas        std   \n",
       "1        3.0          99.542289  alfa-romero       gas        std   \n",
       "2        1.0          99.542289  alfa-romero       gas        std   \n",
       "3        2.0         164.000000         audi       gas        std   \n",
       "4        2.0         164.000000         audi       gas        std   \n",
       "\n",
       "  num-of-doors   body-style drive-wheels engine-location  wheel-base  ...  \\\n",
       "0          two  convertible          rwd           front        88.6  ...   \n",
       "1          two  convertible          rwd           front        88.6  ...   \n",
       "2          two    hatchback          rwd           front        94.5  ...   \n",
       "3         four        sedan          fwd           front        99.8  ...   \n",
       "4         four        sedan          4wd           front        99.4  ...   \n",
       "\n",
       "   engine-size  fuel-system  bore  stroke compression-ratio horsepower  \\\n",
       "0          130         mpfi  3.47    2.68               9.0      111.0   \n",
       "1          130         mpfi  3.47    2.68               9.0      111.0   \n",
       "2          152         mpfi  2.68    3.47               9.0      154.0   \n",
       "3          109         mpfi  3.19    3.40              10.0      102.0   \n",
       "4          136         mpfi  3.19    3.40               8.0      115.0   \n",
       "\n",
       "   peak-rpm city-mpg  highway-mpg  price  \n",
       "0    5000.0       21           27  13495  \n",
       "1    5000.0       21           27  16500  \n",
       "2    5000.0       19           26  16500  \n",
       "3    5500.0       24           30  13950  \n",
       "4    5500.0       18           22  17450  \n",
       "\n",
       "[5 rows x 26 columns]"
      ]
     },
     "execution_count": 2,
     "metadata": {},
     "output_type": "execute_result"
    }
   ],
   "source": [
    "df=pd.read_csv('automobile.csv')\n",
    "df.head()"
   ]
  },
  {
   "cell_type": "markdown",
   "id": "eadef358-c253-4f65-af8a-57dc1ba14b01",
   "metadata": {},
   "source": [
    "Firstly, there are two types of values in the dataset:\n",
    "\n",
    "1. Continuous Numerical Values: Continuous numerical variables are variables that may contain any value within some range. They can be of type \"int64\" or \"float64\". A great way to visualize these variables is by using scatterplots with fitted lines. e.g Length,Width,etc.\n",
    "\n",
    "2. Categorical Values:These are variables that describe a 'characteristic' of a data unit, and are selected from a small group of categories. The categorical variables can have the type \"object\" or \"int64\". A good way to visualize categorical variables is by using boxplots. E.g Body styles, Drive wheels, etc"
   ]
  },
  {
   "cell_type": "markdown",
   "id": "69acbe9e-99e1-4ffd-baad-0ede15f946ef",
   "metadata": {},
   "source": [
    "<h3> Descriptive Statistical Analysis </h3>\n",
    "\n",
    "Let's first take a look at the variables by utilizing a description method.\n",
    "\n",
    "The describe function automatically computes basic statistics for all continuous variables. Any NaN values are automatically skipped in these statistics.\n"
   ]
  },
  {
   "cell_type": "markdown",
   "id": "9cea6d81-1d65-4faf-879a-569f0756c043",
   "metadata": {},
   "source": [
    "This will show:\n",
    "\n",
    "    the count of that variable\n",
    "    the mean\n",
    "    the standard deviation (std)\n",
    "    the minimum value\n",
    "    the IQR (Interquartile Range: 25%, 50% and 75%)\n",
    "    the maximum value\n",
    "\n",
    "We can apply the method \"describe\" as follows:"
   ]
  },
  {
   "cell_type": "code",
   "execution_count": 3,
   "id": "be2583aa-db3d-47d9-b750-e60f60f9d7ac",
   "metadata": {},
   "outputs": [
    {
     "data": {
      "text/html": [
       "<div>\n",
       "<style scoped>\n",
       "    .dataframe tbody tr th:only-of-type {\n",
       "        vertical-align: middle;\n",
       "    }\n",
       "\n",
       "    .dataframe tbody tr th {\n",
       "        vertical-align: top;\n",
       "    }\n",
       "\n",
       "    .dataframe thead th {\n",
       "        text-align: right;\n",
       "    }\n",
       "</style>\n",
       "<table border=\"1\" class=\"dataframe\">\n",
       "  <thead>\n",
       "    <tr style=\"text-align: right;\">\n",
       "      <th></th>\n",
       "      <th>symboling</th>\n",
       "      <th>normalized-losses</th>\n",
       "      <th>wheel-base</th>\n",
       "      <th>length</th>\n",
       "      <th>width</th>\n",
       "      <th>height</th>\n",
       "      <th>curb-weight</th>\n",
       "      <th>engine-size</th>\n",
       "      <th>bore</th>\n",
       "      <th>stroke</th>\n",
       "      <th>compression-ratio</th>\n",
       "      <th>horsepower</th>\n",
       "      <th>peak-rpm</th>\n",
       "      <th>city-mpg</th>\n",
       "      <th>highway-mpg</th>\n",
       "      <th>price</th>\n",
       "    </tr>\n",
       "  </thead>\n",
       "  <tbody>\n",
       "    <tr>\n",
       "      <th>count</th>\n",
       "      <td>130.000000</td>\n",
       "      <td>130.000000</td>\n",
       "      <td>130.000000</td>\n",
       "      <td>130.000000</td>\n",
       "      <td>130.000000</td>\n",
       "      <td>130.000000</td>\n",
       "      <td>130.000000</td>\n",
       "      <td>130.000000</td>\n",
       "      <td>130.000000</td>\n",
       "      <td>130.000000</td>\n",
       "      <td>130.000000</td>\n",
       "      <td>130.000000</td>\n",
       "      <td>130.000000</td>\n",
       "      <td>130.000000</td>\n",
       "      <td>130.000000</td>\n",
       "      <td>130.000000</td>\n",
       "    </tr>\n",
       "    <tr>\n",
       "      <th>mean</th>\n",
       "      <td>1.184615</td>\n",
       "      <td>120.917719</td>\n",
       "      <td>97.740000</td>\n",
       "      <td>172.173846</td>\n",
       "      <td>65.724615</td>\n",
       "      <td>53.395385</td>\n",
       "      <td>2483.661538</td>\n",
       "      <td>124.461538</td>\n",
       "      <td>3.295385</td>\n",
       "      <td>3.270385</td>\n",
       "      <td>9.827077</td>\n",
       "      <td>103.776923</td>\n",
       "      <td>5167.307692</td>\n",
       "      <td>25.692308</td>\n",
       "      <td>31.292308</td>\n",
       "      <td>12679.146154</td>\n",
       "    </tr>\n",
       "    <tr>\n",
       "      <th>std</th>\n",
       "      <td>1.345591</td>\n",
       "      <td>34.880566</td>\n",
       "      <td>5.670878</td>\n",
       "      <td>12.459339</td>\n",
       "      <td>2.130984</td>\n",
       "      <td>2.391421</td>\n",
       "      <td>493.763235</td>\n",
       "      <td>36.016825</td>\n",
       "      <td>0.283678</td>\n",
       "      <td>0.268566</td>\n",
       "      <td>3.489471</td>\n",
       "      <td>37.296271</td>\n",
       "      <td>438.757563</td>\n",
       "      <td>6.572017</td>\n",
       "      <td>6.870278</td>\n",
       "      <td>7596.033089</td>\n",
       "    </tr>\n",
       "    <tr>\n",
       "      <th>min</th>\n",
       "      <td>-2.000000</td>\n",
       "      <td>65.000000</td>\n",
       "      <td>86.600000</td>\n",
       "      <td>141.100000</td>\n",
       "      <td>60.300000</td>\n",
       "      <td>48.800000</td>\n",
       "      <td>1488.000000</td>\n",
       "      <td>61.000000</td>\n",
       "      <td>2.540000</td>\n",
       "      <td>2.070000</td>\n",
       "      <td>7.000000</td>\n",
       "      <td>48.000000</td>\n",
       "      <td>4200.000000</td>\n",
       "      <td>14.000000</td>\n",
       "      <td>16.000000</td>\n",
       "      <td>5118.000000</td>\n",
       "    </tr>\n",
       "    <tr>\n",
       "      <th>25%</th>\n",
       "      <td>1.000000</td>\n",
       "      <td>99.542289</td>\n",
       "      <td>93.700000</td>\n",
       "      <td>165.300000</td>\n",
       "      <td>64.000000</td>\n",
       "      <td>51.400000</td>\n",
       "      <td>2025.000000</td>\n",
       "      <td>97.000000</td>\n",
       "      <td>3.035000</td>\n",
       "      <td>3.150000</td>\n",
       "      <td>8.700000</td>\n",
       "      <td>69.000000</td>\n",
       "      <td>4825.000000</td>\n",
       "      <td>20.000000</td>\n",
       "      <td>25.250000</td>\n",
       "      <td>7360.500000</td>\n",
       "    </tr>\n",
       "    <tr>\n",
       "      <th>50%</th>\n",
       "      <td>1.000000</td>\n",
       "      <td>111.500000</td>\n",
       "      <td>96.300000</td>\n",
       "      <td>171.700000</td>\n",
       "      <td>65.500000</td>\n",
       "      <td>53.700000</td>\n",
       "      <td>2399.000000</td>\n",
       "      <td>121.000000</td>\n",
       "      <td>3.240000</td>\n",
       "      <td>3.290000</td>\n",
       "      <td>9.200000</td>\n",
       "      <td>100.500000</td>\n",
       "      <td>5200.000000</td>\n",
       "      <td>24.000000</td>\n",
       "      <td>30.000000</td>\n",
       "      <td>9969.500000</td>\n",
       "    </tr>\n",
       "    <tr>\n",
       "      <th>75%</th>\n",
       "      <td>2.000000</td>\n",
       "      <td>144.250000</td>\n",
       "      <td>100.850000</td>\n",
       "      <td>178.250000</td>\n",
       "      <td>66.500000</td>\n",
       "      <td>55.500000</td>\n",
       "      <td>2841.250000</td>\n",
       "      <td>141.000000</td>\n",
       "      <td>3.570000</td>\n",
       "      <td>3.407500</td>\n",
       "      <td>9.400000</td>\n",
       "      <td>116.000000</td>\n",
       "      <td>5500.000000</td>\n",
       "      <td>31.000000</td>\n",
       "      <td>37.000000</td>\n",
       "      <td>16482.500000</td>\n",
       "    </tr>\n",
       "    <tr>\n",
       "      <th>max</th>\n",
       "      <td>3.000000</td>\n",
       "      <td>256.000000</td>\n",
       "      <td>115.600000</td>\n",
       "      <td>202.600000</td>\n",
       "      <td>72.000000</td>\n",
       "      <td>59.800000</td>\n",
       "      <td>3770.000000</td>\n",
       "      <td>304.000000</td>\n",
       "      <td>3.940000</td>\n",
       "      <td>3.900000</td>\n",
       "      <td>23.000000</td>\n",
       "      <td>207.000000</td>\n",
       "      <td>6600.000000</td>\n",
       "      <td>49.000000</td>\n",
       "      <td>54.000000</td>\n",
       "      <td>45400.000000</td>\n",
       "    </tr>\n",
       "  </tbody>\n",
       "</table>\n",
       "</div>"
      ],
      "text/plain": [
       "        symboling  normalized-losses  wheel-base      length       width  \\\n",
       "count  130.000000         130.000000  130.000000  130.000000  130.000000   \n",
       "mean     1.184615         120.917719   97.740000  172.173846   65.724615   \n",
       "std      1.345591          34.880566    5.670878   12.459339    2.130984   \n",
       "min     -2.000000          65.000000   86.600000  141.100000   60.300000   \n",
       "25%      1.000000          99.542289   93.700000  165.300000   64.000000   \n",
       "50%      1.000000         111.500000   96.300000  171.700000   65.500000   \n",
       "75%      2.000000         144.250000  100.850000  178.250000   66.500000   \n",
       "max      3.000000         256.000000  115.600000  202.600000   72.000000   \n",
       "\n",
       "           height  curb-weight  engine-size        bore      stroke  \\\n",
       "count  130.000000   130.000000   130.000000  130.000000  130.000000   \n",
       "mean    53.395385  2483.661538   124.461538    3.295385    3.270385   \n",
       "std      2.391421   493.763235    36.016825    0.283678    0.268566   \n",
       "min     48.800000  1488.000000    61.000000    2.540000    2.070000   \n",
       "25%     51.400000  2025.000000    97.000000    3.035000    3.150000   \n",
       "50%     53.700000  2399.000000   121.000000    3.240000    3.290000   \n",
       "75%     55.500000  2841.250000   141.000000    3.570000    3.407500   \n",
       "max     59.800000  3770.000000   304.000000    3.940000    3.900000   \n",
       "\n",
       "       compression-ratio  horsepower     peak-rpm    city-mpg  highway-mpg  \\\n",
       "count         130.000000  130.000000   130.000000  130.000000   130.000000   \n",
       "mean            9.827077  103.776923  5167.307692   25.692308    31.292308   \n",
       "std             3.489471   37.296271   438.757563    6.572017     6.870278   \n",
       "min             7.000000   48.000000  4200.000000   14.000000    16.000000   \n",
       "25%             8.700000   69.000000  4825.000000   20.000000    25.250000   \n",
       "50%             9.200000  100.500000  5200.000000   24.000000    30.000000   \n",
       "75%             9.400000  116.000000  5500.000000   31.000000    37.000000   \n",
       "max            23.000000  207.000000  6600.000000   49.000000    54.000000   \n",
       "\n",
       "              price  \n",
       "count    130.000000  \n",
       "mean   12679.146154  \n",
       "std     7596.033089  \n",
       "min     5118.000000  \n",
       "25%     7360.500000  \n",
       "50%     9969.500000  \n",
       "75%    16482.500000  \n",
       "max    45400.000000  "
      ]
     },
     "execution_count": 3,
     "metadata": {},
     "output_type": "execute_result"
    }
   ],
   "source": [
    "df.describe()"
   ]
  },
  {
   "cell_type": "markdown",
   "id": "c52638a4-efd9-4a9a-baca-6f9718228d97",
   "metadata": {},
   "source": [
    "The default setting of \"describe\" skips variables of type object. We can apply the method \"describe\" on the variables of type 'object' as follows:"
   ]
  },
  {
   "cell_type": "code",
   "execution_count": 4,
   "id": "a7a04dd3-0a92-4f4e-9c26-c9f603114f1f",
   "metadata": {},
   "outputs": [
    {
     "data": {
      "text/html": [
       "<div>\n",
       "<style scoped>\n",
       "    .dataframe tbody tr th:only-of-type {\n",
       "        vertical-align: middle;\n",
       "    }\n",
       "\n",
       "    .dataframe tbody tr th {\n",
       "        vertical-align: top;\n",
       "    }\n",
       "\n",
       "    .dataframe thead th {\n",
       "        text-align: right;\n",
       "    }\n",
       "</style>\n",
       "<table border=\"1\" class=\"dataframe\">\n",
       "  <thead>\n",
       "    <tr style=\"text-align: right;\">\n",
       "      <th></th>\n",
       "      <th>make</th>\n",
       "      <th>fuel-type</th>\n",
       "      <th>aspiration</th>\n",
       "      <th>num-of-doors</th>\n",
       "      <th>body-style</th>\n",
       "      <th>drive-wheels</th>\n",
       "      <th>engine-location</th>\n",
       "      <th>engine-type</th>\n",
       "      <th>num-of-cylinders</th>\n",
       "      <th>fuel-system</th>\n",
       "    </tr>\n",
       "  </thead>\n",
       "  <tbody>\n",
       "    <tr>\n",
       "      <th>count</th>\n",
       "      <td>130</td>\n",
       "      <td>130</td>\n",
       "      <td>130</td>\n",
       "      <td>130</td>\n",
       "      <td>130</td>\n",
       "      <td>130</td>\n",
       "      <td>130</td>\n",
       "      <td>130</td>\n",
       "      <td>130</td>\n",
       "      <td>130</td>\n",
       "    </tr>\n",
       "    <tr>\n",
       "      <th>unique</th>\n",
       "      <td>19</td>\n",
       "      <td>2</td>\n",
       "      <td>2</td>\n",
       "      <td>2</td>\n",
       "      <td>5</td>\n",
       "      <td>3</td>\n",
       "      <td>2</td>\n",
       "      <td>5</td>\n",
       "      <td>5</td>\n",
       "      <td>7</td>\n",
       "    </tr>\n",
       "    <tr>\n",
       "      <th>top</th>\n",
       "      <td>toyota</td>\n",
       "      <td>gas</td>\n",
       "      <td>std</td>\n",
       "      <td>two</td>\n",
       "      <td>hatchback</td>\n",
       "      <td>fwd</td>\n",
       "      <td>front</td>\n",
       "      <td>ohc</td>\n",
       "      <td>four</td>\n",
       "      <td>mpfi</td>\n",
       "    </tr>\n",
       "    <tr>\n",
       "      <th>freq</th>\n",
       "      <td>22</td>\n",
       "      <td>121</td>\n",
       "      <td>105</td>\n",
       "      <td>75</td>\n",
       "      <td>56</td>\n",
       "      <td>82</td>\n",
       "      <td>127</td>\n",
       "      <td>105</td>\n",
       "      <td>104</td>\n",
       "      <td>61</td>\n",
       "    </tr>\n",
       "  </tbody>\n",
       "</table>\n",
       "</div>"
      ],
      "text/plain": [
       "          make fuel-type aspiration num-of-doors body-style drive-wheels  \\\n",
       "count      130       130        130          130        130          130   \n",
       "unique      19         2          2            2          5            3   \n",
       "top     toyota       gas        std          two  hatchback          fwd   \n",
       "freq        22       121        105           75         56           82   \n",
       "\n",
       "       engine-location engine-type num-of-cylinders fuel-system  \n",
       "count              130         130              130         130  \n",
       "unique               2           5                5           7  \n",
       "top              front         ohc             four        mpfi  \n",
       "freq               127         105              104          61  "
      ]
     },
     "execution_count": 4,
     "metadata": {},
     "output_type": "execute_result"
    }
   ],
   "source": [
    "df.describe(include=['object'])"
   ]
  },
  {
   "cell_type": "markdown",
   "id": "b0e3a633-93f1-402c-82ba-9ad6796f1cfc",
   "metadata": {},
   "source": [
    "<h3>Correlation and Causation</h3>"
   ]
  },
  {
   "cell_type": "markdown",
   "id": "25d0baf9-555b-472c-a81f-d39025953e34",
   "metadata": {},
   "source": [
    "Correlation: a measure of the extent of interdependence between variables\n",
    "\n",
    "Causation: the relationship between cause and effect between two variables.\n",
    "\n",
    "It is important to know the difference between these two. Correlation does not imply causation. Determining correlation is much simpler  the determining causation as causation may require independent experimentation.\n"
   ]
  },
  {
   "cell_type": "markdown",
   "id": "c8aed370-7677-4c1b-9094-8a37247b35ec",
   "metadata": {},
   "source": [
    "Pearson Correlation\n",
    "The Pearson Correlation measures the linear dependence between two variables X and Y.\n",
    "The resulting coefficient is a value between -1 and 1 inclusive, where: \n",
    "    \n",
    "     1: Perfect positive linear correlation.\n",
    "     0: No linear correlation, the two variables most likely do not affect each other.\n",
    "    -1: Perfect negative linear correlation.\n"
   ]
  },
  {
   "cell_type": "markdown",
   "id": "fad9b0b1-8abe-42e4-a229-2ae8a7900e06",
   "metadata": {},
   "source": [
    "Pearson Correlation is the default method of the function \"corr\". Like before, we can calculate the Pearson Correlation of the of the 'int64' or 'float64' variables.\n"
   ]
  },
  {
   "cell_type": "code",
   "execution_count": 5,
   "id": "22b21f6a-1fa6-46c6-af85-e0e2346c48e0",
   "metadata": {},
   "outputs": [
    {
     "data": {
      "text/html": [
       "<div>\n",
       "<style scoped>\n",
       "    .dataframe tbody tr th:only-of-type {\n",
       "        vertical-align: middle;\n",
       "    }\n",
       "\n",
       "    .dataframe tbody tr th {\n",
       "        vertical-align: top;\n",
       "    }\n",
       "\n",
       "    .dataframe thead th {\n",
       "        text-align: right;\n",
       "    }\n",
       "</style>\n",
       "<table border=\"1\" class=\"dataframe\">\n",
       "  <thead>\n",
       "    <tr style=\"text-align: right;\">\n",
       "      <th></th>\n",
       "      <th>symboling</th>\n",
       "      <th>normalized-losses</th>\n",
       "      <th>wheel-base</th>\n",
       "      <th>length</th>\n",
       "      <th>width</th>\n",
       "      <th>height</th>\n",
       "      <th>curb-weight</th>\n",
       "      <th>engine-size</th>\n",
       "      <th>bore</th>\n",
       "      <th>stroke</th>\n",
       "      <th>compression-ratio</th>\n",
       "      <th>horsepower</th>\n",
       "      <th>peak-rpm</th>\n",
       "      <th>city-mpg</th>\n",
       "      <th>highway-mpg</th>\n",
       "      <th>price</th>\n",
       "    </tr>\n",
       "  </thead>\n",
       "  <tbody>\n",
       "    <tr>\n",
       "      <th>symboling</th>\n",
       "      <td>1.000000</td>\n",
       "      <td>0.448870</td>\n",
       "      <td>-0.610307</td>\n",
       "      <td>-0.343862</td>\n",
       "      <td>-0.269238</td>\n",
       "      <td>-0.532610</td>\n",
       "      <td>-0.197016</td>\n",
       "      <td>-0.017607</td>\n",
       "      <td>-0.079796</td>\n",
       "      <td>-0.088576</td>\n",
       "      <td>-0.192387</td>\n",
       "      <td>0.089645</td>\n",
       "      <td>0.196095</td>\n",
       "      <td>-0.025961</td>\n",
       "      <td>0.051138</td>\n",
       "      <td>-0.052705</td>\n",
       "    </tr>\n",
       "    <tr>\n",
       "      <th>normalized-losses</th>\n",
       "      <td>0.448870</td>\n",
       "      <td>1.000000</td>\n",
       "      <td>-0.256944</td>\n",
       "      <td>-0.124925</td>\n",
       "      <td>-0.065097</td>\n",
       "      <td>-0.461943</td>\n",
       "      <td>-0.084135</td>\n",
       "      <td>-0.037327</td>\n",
       "      <td>-0.178750</td>\n",
       "      <td>-0.000935</td>\n",
       "      <td>-0.169986</td>\n",
       "      <td>0.061079</td>\n",
       "      <td>0.377596</td>\n",
       "      <td>-0.040643</td>\n",
       "      <td>-0.008882</td>\n",
       "      <td>-0.068683</td>\n",
       "    </tr>\n",
       "    <tr>\n",
       "      <th>wheel-base</th>\n",
       "      <td>-0.610307</td>\n",
       "      <td>-0.256944</td>\n",
       "      <td>1.000000</td>\n",
       "      <td>0.856055</td>\n",
       "      <td>0.807593</td>\n",
       "      <td>0.636788</td>\n",
       "      <td>0.724754</td>\n",
       "      <td>0.522259</td>\n",
       "      <td>0.417694</td>\n",
       "      <td>0.185374</td>\n",
       "      <td>0.246721</td>\n",
       "      <td>0.340207</td>\n",
       "      <td>-0.312568</td>\n",
       "      <td>-0.464441</td>\n",
       "      <td>-0.538534</td>\n",
       "      <td>0.521231</td>\n",
       "    </tr>\n",
       "    <tr>\n",
       "      <th>length</th>\n",
       "      <td>-0.343862</td>\n",
       "      <td>-0.124925</td>\n",
       "      <td>0.856055</td>\n",
       "      <td>1.000000</td>\n",
       "      <td>0.852851</td>\n",
       "      <td>0.509726</td>\n",
       "      <td>0.864522</td>\n",
       "      <td>0.676878</td>\n",
       "      <td>0.571033</td>\n",
       "      <td>0.105724</td>\n",
       "      <td>0.148434</td>\n",
       "      <td>0.589817</td>\n",
       "      <td>-0.236418</td>\n",
       "      <td>-0.696025</td>\n",
       "      <td>-0.721002</td>\n",
       "      <td>0.671473</td>\n",
       "    </tr>\n",
       "    <tr>\n",
       "      <th>width</th>\n",
       "      <td>-0.269238</td>\n",
       "      <td>-0.065097</td>\n",
       "      <td>0.807593</td>\n",
       "      <td>0.852851</td>\n",
       "      <td>1.000000</td>\n",
       "      <td>0.345736</td>\n",
       "      <td>0.877501</td>\n",
       "      <td>0.755730</td>\n",
       "      <td>0.493405</td>\n",
       "      <td>0.202996</td>\n",
       "      <td>0.172179</td>\n",
       "      <td>0.607904</td>\n",
       "      <td>-0.226305</td>\n",
       "      <td>-0.660687</td>\n",
       "      <td>-0.711597</td>\n",
       "      <td>0.754461</td>\n",
       "    </tr>\n",
       "    <tr>\n",
       "      <th>height</th>\n",
       "      <td>-0.532610</td>\n",
       "      <td>-0.461943</td>\n",
       "      <td>0.636788</td>\n",
       "      <td>0.509726</td>\n",
       "      <td>0.345736</td>\n",
       "      <td>1.000000</td>\n",
       "      <td>0.278911</td>\n",
       "      <td>0.071378</td>\n",
       "      <td>0.182250</td>\n",
       "      <td>-0.106743</td>\n",
       "      <td>0.304843</td>\n",
       "      <td>-0.032570</td>\n",
       "      <td>-0.253703</td>\n",
       "      <td>-0.083744</td>\n",
       "      <td>-0.121412</td>\n",
       "      <td>0.191482</td>\n",
       "    </tr>\n",
       "    <tr>\n",
       "      <th>curb-weight</th>\n",
       "      <td>-0.197016</td>\n",
       "      <td>-0.084135</td>\n",
       "      <td>0.724754</td>\n",
       "      <td>0.864522</td>\n",
       "      <td>0.877501</td>\n",
       "      <td>0.278911</td>\n",
       "      <td>1.000000</td>\n",
       "      <td>0.882153</td>\n",
       "      <td>0.654855</td>\n",
       "      <td>0.134056</td>\n",
       "      <td>0.125844</td>\n",
       "      <td>0.796221</td>\n",
       "      <td>-0.225578</td>\n",
       "      <td>-0.802686</td>\n",
       "      <td>-0.844821</td>\n",
       "      <td>0.846365</td>\n",
       "    </tr>\n",
       "    <tr>\n",
       "      <th>engine-size</th>\n",
       "      <td>-0.017607</td>\n",
       "      <td>-0.037327</td>\n",
       "      <td>0.522259</td>\n",
       "      <td>0.676878</td>\n",
       "      <td>0.755730</td>\n",
       "      <td>0.071378</td>\n",
       "      <td>0.882153</td>\n",
       "      <td>1.000000</td>\n",
       "      <td>0.632904</td>\n",
       "      <td>0.127646</td>\n",
       "      <td>0.004201</td>\n",
       "      <td>0.823046</td>\n",
       "      <td>-0.222187</td>\n",
       "      <td>-0.743270</td>\n",
       "      <td>-0.776948</td>\n",
       "      <td>0.889200</td>\n",
       "    </tr>\n",
       "    <tr>\n",
       "      <th>bore</th>\n",
       "      <td>-0.079796</td>\n",
       "      <td>-0.178750</td>\n",
       "      <td>0.417694</td>\n",
       "      <td>0.571033</td>\n",
       "      <td>0.493405</td>\n",
       "      <td>0.182250</td>\n",
       "      <td>0.654855</td>\n",
       "      <td>0.632904</td>\n",
       "      <td>1.000000</td>\n",
       "      <td>-0.010243</td>\n",
       "      <td>-0.109344</td>\n",
       "      <td>0.627208</td>\n",
       "      <td>-0.172372</td>\n",
       "      <td>-0.630374</td>\n",
       "      <td>-0.627549</td>\n",
       "      <td>0.563228</td>\n",
       "    </tr>\n",
       "    <tr>\n",
       "      <th>stroke</th>\n",
       "      <td>-0.088576</td>\n",
       "      <td>-0.000935</td>\n",
       "      <td>0.185374</td>\n",
       "      <td>0.105724</td>\n",
       "      <td>0.202996</td>\n",
       "      <td>-0.106743</td>\n",
       "      <td>0.134056</td>\n",
       "      <td>0.127646</td>\n",
       "      <td>-0.010243</td>\n",
       "      <td>1.000000</td>\n",
       "      <td>0.131929</td>\n",
       "      <td>0.046165</td>\n",
       "      <td>-0.187054</td>\n",
       "      <td>-0.035420</td>\n",
       "      <td>-0.057577</td>\n",
       "      <td>-0.051589</td>\n",
       "    </tr>\n",
       "    <tr>\n",
       "      <th>compression-ratio</th>\n",
       "      <td>-0.192387</td>\n",
       "      <td>-0.169986</td>\n",
       "      <td>0.246721</td>\n",
       "      <td>0.148434</td>\n",
       "      <td>0.172179</td>\n",
       "      <td>0.304843</td>\n",
       "      <td>0.125844</td>\n",
       "      <td>0.004201</td>\n",
       "      <td>-0.109344</td>\n",
       "      <td>0.131929</td>\n",
       "      <td>1.000000</td>\n",
       "      <td>-0.198528</td>\n",
       "      <td>-0.315876</td>\n",
       "      <td>0.301062</td>\n",
       "      <td>0.254556</td>\n",
       "      <td>0.103733</td>\n",
       "    </tr>\n",
       "    <tr>\n",
       "      <th>horsepower</th>\n",
       "      <td>0.089645</td>\n",
       "      <td>0.061079</td>\n",
       "      <td>0.340207</td>\n",
       "      <td>0.589817</td>\n",
       "      <td>0.607904</td>\n",
       "      <td>-0.032570</td>\n",
       "      <td>0.796221</td>\n",
       "      <td>0.823046</td>\n",
       "      <td>0.627208</td>\n",
       "      <td>0.046165</td>\n",
       "      <td>-0.198528</td>\n",
       "      <td>1.000000</td>\n",
       "      <td>0.103935</td>\n",
       "      <td>-0.848116</td>\n",
       "      <td>-0.836122</td>\n",
       "      <td>0.797357</td>\n",
       "    </tr>\n",
       "    <tr>\n",
       "      <th>peak-rpm</th>\n",
       "      <td>0.196095</td>\n",
       "      <td>0.377596</td>\n",
       "      <td>-0.312568</td>\n",
       "      <td>-0.236418</td>\n",
       "      <td>-0.226305</td>\n",
       "      <td>-0.253703</td>\n",
       "      <td>-0.225578</td>\n",
       "      <td>-0.222187</td>\n",
       "      <td>-0.172372</td>\n",
       "      <td>-0.187054</td>\n",
       "      <td>-0.315876</td>\n",
       "      <td>0.103935</td>\n",
       "      <td>1.000000</td>\n",
       "      <td>-0.057686</td>\n",
       "      <td>-0.013135</td>\n",
       "      <td>-0.068482</td>\n",
       "    </tr>\n",
       "    <tr>\n",
       "      <th>city-mpg</th>\n",
       "      <td>-0.025961</td>\n",
       "      <td>-0.040643</td>\n",
       "      <td>-0.464441</td>\n",
       "      <td>-0.696025</td>\n",
       "      <td>-0.660687</td>\n",
       "      <td>-0.083744</td>\n",
       "      <td>-0.802686</td>\n",
       "      <td>-0.743270</td>\n",
       "      <td>-0.630374</td>\n",
       "      <td>-0.035420</td>\n",
       "      <td>0.301062</td>\n",
       "      <td>-0.848116</td>\n",
       "      <td>-0.057686</td>\n",
       "      <td>1.000000</td>\n",
       "      <td>0.976503</td>\n",
       "      <td>-0.706462</td>\n",
       "    </tr>\n",
       "    <tr>\n",
       "      <th>highway-mpg</th>\n",
       "      <td>0.051138</td>\n",
       "      <td>-0.008882</td>\n",
       "      <td>-0.538534</td>\n",
       "      <td>-0.721002</td>\n",
       "      <td>-0.711597</td>\n",
       "      <td>-0.121412</td>\n",
       "      <td>-0.844821</td>\n",
       "      <td>-0.776948</td>\n",
       "      <td>-0.627549</td>\n",
       "      <td>-0.057577</td>\n",
       "      <td>0.254556</td>\n",
       "      <td>-0.836122</td>\n",
       "      <td>-0.013135</td>\n",
       "      <td>0.976503</td>\n",
       "      <td>1.000000</td>\n",
       "      <td>-0.733995</td>\n",
       "    </tr>\n",
       "    <tr>\n",
       "      <th>price</th>\n",
       "      <td>-0.052705</td>\n",
       "      <td>-0.068683</td>\n",
       "      <td>0.521231</td>\n",
       "      <td>0.671473</td>\n",
       "      <td>0.754461</td>\n",
       "      <td>0.191482</td>\n",
       "      <td>0.846365</td>\n",
       "      <td>0.889200</td>\n",
       "      <td>0.563228</td>\n",
       "      <td>-0.051589</td>\n",
       "      <td>0.103733</td>\n",
       "      <td>0.797357</td>\n",
       "      <td>-0.068482</td>\n",
       "      <td>-0.706462</td>\n",
       "      <td>-0.733995</td>\n",
       "      <td>1.000000</td>\n",
       "    </tr>\n",
       "  </tbody>\n",
       "</table>\n",
       "</div>"
      ],
      "text/plain": [
       "                   symboling  normalized-losses  wheel-base    length  \\\n",
       "symboling           1.000000           0.448870   -0.610307 -0.343862   \n",
       "normalized-losses   0.448870           1.000000   -0.256944 -0.124925   \n",
       "wheel-base         -0.610307          -0.256944    1.000000  0.856055   \n",
       "length             -0.343862          -0.124925    0.856055  1.000000   \n",
       "width              -0.269238          -0.065097    0.807593  0.852851   \n",
       "height             -0.532610          -0.461943    0.636788  0.509726   \n",
       "curb-weight        -0.197016          -0.084135    0.724754  0.864522   \n",
       "engine-size        -0.017607          -0.037327    0.522259  0.676878   \n",
       "bore               -0.079796          -0.178750    0.417694  0.571033   \n",
       "stroke             -0.088576          -0.000935    0.185374  0.105724   \n",
       "compression-ratio  -0.192387          -0.169986    0.246721  0.148434   \n",
       "horsepower          0.089645           0.061079    0.340207  0.589817   \n",
       "peak-rpm            0.196095           0.377596   -0.312568 -0.236418   \n",
       "city-mpg           -0.025961          -0.040643   -0.464441 -0.696025   \n",
       "highway-mpg         0.051138          -0.008882   -0.538534 -0.721002   \n",
       "price              -0.052705          -0.068683    0.521231  0.671473   \n",
       "\n",
       "                      width    height  curb-weight  engine-size      bore  \\\n",
       "symboling         -0.269238 -0.532610    -0.197016    -0.017607 -0.079796   \n",
       "normalized-losses -0.065097 -0.461943    -0.084135    -0.037327 -0.178750   \n",
       "wheel-base         0.807593  0.636788     0.724754     0.522259  0.417694   \n",
       "length             0.852851  0.509726     0.864522     0.676878  0.571033   \n",
       "width              1.000000  0.345736     0.877501     0.755730  0.493405   \n",
       "height             0.345736  1.000000     0.278911     0.071378  0.182250   \n",
       "curb-weight        0.877501  0.278911     1.000000     0.882153  0.654855   \n",
       "engine-size        0.755730  0.071378     0.882153     1.000000  0.632904   \n",
       "bore               0.493405  0.182250     0.654855     0.632904  1.000000   \n",
       "stroke             0.202996 -0.106743     0.134056     0.127646 -0.010243   \n",
       "compression-ratio  0.172179  0.304843     0.125844     0.004201 -0.109344   \n",
       "horsepower         0.607904 -0.032570     0.796221     0.823046  0.627208   \n",
       "peak-rpm          -0.226305 -0.253703    -0.225578    -0.222187 -0.172372   \n",
       "city-mpg          -0.660687 -0.083744    -0.802686    -0.743270 -0.630374   \n",
       "highway-mpg       -0.711597 -0.121412    -0.844821    -0.776948 -0.627549   \n",
       "price              0.754461  0.191482     0.846365     0.889200  0.563228   \n",
       "\n",
       "                     stroke  compression-ratio  horsepower  peak-rpm  \\\n",
       "symboling         -0.088576          -0.192387    0.089645  0.196095   \n",
       "normalized-losses -0.000935          -0.169986    0.061079  0.377596   \n",
       "wheel-base         0.185374           0.246721    0.340207 -0.312568   \n",
       "length             0.105724           0.148434    0.589817 -0.236418   \n",
       "width              0.202996           0.172179    0.607904 -0.226305   \n",
       "height            -0.106743           0.304843   -0.032570 -0.253703   \n",
       "curb-weight        0.134056           0.125844    0.796221 -0.225578   \n",
       "engine-size        0.127646           0.004201    0.823046 -0.222187   \n",
       "bore              -0.010243          -0.109344    0.627208 -0.172372   \n",
       "stroke             1.000000           0.131929    0.046165 -0.187054   \n",
       "compression-ratio  0.131929           1.000000   -0.198528 -0.315876   \n",
       "horsepower         0.046165          -0.198528    1.000000  0.103935   \n",
       "peak-rpm          -0.187054          -0.315876    0.103935  1.000000   \n",
       "city-mpg          -0.035420           0.301062   -0.848116 -0.057686   \n",
       "highway-mpg       -0.057577           0.254556   -0.836122 -0.013135   \n",
       "price             -0.051589           0.103733    0.797357 -0.068482   \n",
       "\n",
       "                   city-mpg  highway-mpg     price  \n",
       "symboling         -0.025961     0.051138 -0.052705  \n",
       "normalized-losses -0.040643    -0.008882 -0.068683  \n",
       "wheel-base        -0.464441    -0.538534  0.521231  \n",
       "length            -0.696025    -0.721002  0.671473  \n",
       "width             -0.660687    -0.711597  0.754461  \n",
       "height            -0.083744    -0.121412  0.191482  \n",
       "curb-weight       -0.802686    -0.844821  0.846365  \n",
       "engine-size       -0.743270    -0.776948  0.889200  \n",
       "bore              -0.630374    -0.627549  0.563228  \n",
       "stroke            -0.035420    -0.057577 -0.051589  \n",
       "compression-ratio  0.301062     0.254556  0.103733  \n",
       "horsepower        -0.848116    -0.836122  0.797357  \n",
       "peak-rpm          -0.057686    -0.013135 -0.068482  \n",
       "city-mpg           1.000000     0.976503 -0.706462  \n",
       "highway-mpg        0.976503     1.000000 -0.733995  \n",
       "price             -0.706462    -0.733995  1.000000  "
      ]
     },
     "execution_count": 5,
     "metadata": {},
     "output_type": "execute_result"
    }
   ],
   "source": [
    "df.corr()"
   ]
  },
  {
   "cell_type": "markdown",
   "id": "464ec22a-394b-4392-ada0-e6ed63481725",
   "metadata": {},
   "source": [
    "Sometimes we would like to know the significant of the correlation estimate.\n",
    "\n",
    "P-value\n",
    "\n",
    "What is this P-value? The P-value is the probability value that the correlation between these two variables is statistically significant. Normally, we choose a significance level of 0.05, which means that we are 95% confident that the correlation between the variables is significant.\n",
    "\n",
    "By convention, when the\n",
    "\n",
    "    p-value is <0.001: we say there is strong evidence that the correlation is significant.\n",
    "    the p-value is <0.05: there is moderate evidence that the correlation is significant.\n",
    "    the p-value is <0.1: there is weak evidence that the correlation is significant.\n",
    "    the p-value is >0.1: there is no evidence that the correlation is significant."
   ]
  },
  {
   "cell_type": "markdown",
   "id": "6347e836-a970-41c3-9e4a-a5e1322a7526",
   "metadata": {},
   "source": [
    "We can obtain this information using \"stats\" module in the \"scipy\" library."
   ]
  },
  {
   "cell_type": "code",
   "execution_count": 7,
   "id": "cf9d4658-19ae-4f9e-bc74-e62a99022a01",
   "metadata": {},
   "outputs": [
    {
     "name": "stderr",
     "output_type": "stream",
     "text": [
      "WARNING: You are using pip version 21.2.3; however, version 21.3.1 is available.\n",
      "You should consider upgrading via the 'C:\\Python\\Python39\\python.exe -m pip install --upgrade pip' command.\n"
     ]
    },
    {
     "name": "stdout",
     "output_type": "stream",
     "text": [
      "Collecting scipy\n",
      "  Downloading scipy-1.7.3-cp39-cp39-win_amd64.whl (34.3 MB)\n",
      "Requirement already satisfied: numpy<1.23.0,>=1.16.5 in c:\\python\\python39\\lib\\site-packages (from scipy) (1.21.2)\n",
      "Installing collected packages: scipy\n",
      "Successfully installed scipy-1.7.3\n"
     ]
    }
   ],
   "source": [
    "! pip install scipy\n",
    "from scipy import stats\n"
   ]
  },
  {
   "cell_type": "markdown",
   "id": "1ae9c30d-6a26-4bf8-beae-f4c1a299a92b",
   "metadata": {},
   "source": [
    "Wheel-Base vs. Price\n",
    "\n",
    "Let's calculate the Pearson Correlation Coefficient and P-value of 'wheel-base' and 'price'.\n"
   ]
  },
  {
   "cell_type": "code",
   "execution_count": 8,
   "id": "e7ac62c1-1444-40ce-bcca-4c962dd56839",
   "metadata": {},
   "outputs": [
    {
     "name": "stdout",
     "output_type": "stream",
     "text": [
      "The Pearson Correlation Coefficient is 0.5212311698596392  with a P-value of P =  2.0439212035694013e-10\n"
     ]
    }
   ],
   "source": [
    "pearson_coef,p_value=stats.pearsonr(df['wheel-base'],df['price'])\n",
    "print(\"The Pearson Correlation Coefficient is\", pearson_coef, \" with a P-value of P = \", p_value)  "
   ]
  },
  {
   "cell_type": "markdown",
   "id": "7531d5c0-c24f-4065-89b6-d30c326e5bb1",
   "metadata": {},
   "source": [
    "Conclusion:\n",
    "\n",
    "Since the p-value is <0.001, the correlation between wheel-base and price is statistically significant, although the linear relationship isn't extremely strong (~0.585)."
   ]
  },
  {
   "cell_type": "markdown",
   "id": "3e5e1df0-077b-4452-9e28-bdb19a8e0cc9",
   "metadata": {},
   "source": [
    "Length vs. Price\n",
    "\n",
    "Let's calculate the Pearson Correlation Coefficient and P-value of 'length' and 'price'.\n"
   ]
  },
  {
   "cell_type": "code",
   "execution_count": 9,
   "id": "cc8016f9-68f6-4420-b0aa-b449f616acdc",
   "metadata": {},
   "outputs": [
    {
     "name": "stdout",
     "output_type": "stream",
     "text": [
      "The Pearson Correlation Coefficient is 0.6714732220741576  with a P-value of P =  2.266583638104945e-18\n"
     ]
    }
   ],
   "source": [
    "pearson_coef, p_value = stats.pearsonr(df['length'], df['price'])\n",
    "print(\"The Pearson Correlation Coefficient is\", pearson_coef, \" with a P-value of P = \", p_value)  "
   ]
  },
  {
   "cell_type": "markdown",
   "id": "c23ebc24-5487-48b1-8c72-fa42c527308e",
   "metadata": {},
   "source": [
    "Conclusion:\n",
    "\n",
    "Since the p-value is <0.001, the correlation between length and price is statistically significant, and the linear relationship is moderately strong (~0.691)."
   ]
  },
  {
   "cell_type": "markdown",
   "id": "2a6804ff-9c9f-4b94-9d38-0ad6d87e9896",
   "metadata": {},
   "source": [
    "Horsepower vs. Price\n",
    "\n",
    "Let's calculate the Pearson Correlation Coefficient and P-value of 'horsepower' and 'price'.\n"
   ]
  },
  {
   "cell_type": "code",
   "execution_count": 10,
   "id": "01817335-881a-4dda-9d21-b68516f696ac",
   "metadata": {},
   "outputs": [
    {
     "name": "stdout",
     "output_type": "stream",
     "text": [
      "The Pearson Correlation Coefficient is 0.7973566903717995  with a P-value of P =  7.437027405763391e-30\n"
     ]
    }
   ],
   "source": [
    "pearson_coef, p_value = stats.pearsonr(df['horsepower'], df['price'])\n",
    "print(\"The Pearson Correlation Coefficient is\", pearson_coef, \" with a P-value of P = \", p_value)  "
   ]
  },
  {
   "cell_type": "markdown",
   "id": "a06f619f-1a18-43b4-82b2-8a46a428b0b6",
   "metadata": {},
   "source": [
    "Conclusion:\n",
    "\n",
    "Since the p-value is <0.001, the correlation between horsepower and price is statistically significant, and the linear relationship is quite strong (~0.809, close to 1)."
   ]
  },
  {
   "cell_type": "markdown",
   "id": "f4c33e78-0efb-4044-98b5-ddc542468cb6",
   "metadata": {},
   "source": [
    "Width vs. Price\n",
    "\n",
    "Let's calculate the Pearson Correlation Coefficient and P-value of 'width' and 'price':\n"
   ]
  },
  {
   "cell_type": "code",
   "execution_count": 11,
   "id": "a3732fb5-444d-4806-957e-948ed3715d9f",
   "metadata": {},
   "outputs": [
    {
     "name": "stdout",
     "output_type": "stream",
     "text": [
      "The Pearson Correlation Coefficient is 0.7544609938999314  with a P-value of P = 3.633008353695635e-25\n"
     ]
    }
   ],
   "source": [
    "pearson_coef, p_value = stats.pearsonr(df['width'], df['price'])\n",
    "print(\"The Pearson Correlation Coefficient is\", pearson_coef, \" with a P-value of P =\", p_value ) "
   ]
  },
  {
   "cell_type": "markdown",
   "id": "3866c49c-4135-43d5-8979-2dbb813c7089",
   "metadata": {},
   "source": [
    "Conclusion:\n",
    "\n",
    "Since the p-value is < 0.001, the correlation between width and price is statistically significant, and the linear relationship is quite strong (~0.751).\n"
   ]
  },
  {
   "cell_type": "markdown",
   "id": "cdd1c64f-8472-4b01-8948-204af4607fec",
   "metadata": {},
   "source": [
    "Curb-Weight vs. Price\n",
    "\n",
    "Let's calculate the Pearson Correlation Coefficient and P-value of 'curb-weight' and 'price':\n"
   ]
  },
  {
   "cell_type": "code",
   "execution_count": 12,
   "id": "c8518a90-8187-4154-b49b-2352a7e1c24a",
   "metadata": {},
   "outputs": [
    {
     "name": "stdout",
     "output_type": "stream",
     "text": [
      "The Pearson Correlation Coefficient is 0.8463652318717515  with a P-value of P =  7.911735042406564e-37\n"
     ]
    }
   ],
   "source": [
    "pearson_coef, p_value = stats.pearsonr(df['curb-weight'], df['price'])\n",
    "print( \"The Pearson Correlation Coefficient is\", pearson_coef, \" with a P-value of P = \", p_value)  "
   ]
  },
  {
   "cell_type": "markdown",
   "id": "897329c9-4676-45ae-9ffb-8d52f083f8c5",
   "metadata": {},
   "source": [
    "Conclusion:\n",
    "\n",
    "Since the p-value is <0.001, the correlation between curb-weight and price is statistically significant, and the linear relationship is quite strong (~0.834).\n"
   ]
  },
  {
   "cell_type": "markdown",
   "id": "748aa5f9-3ea6-4f05-9c16-4de7a7bb8806",
   "metadata": {},
   "source": [
    "Engine-Size vs. Price\n",
    "\n",
    "Let's calculate the Pearson Correlation Coefficient and P-value of 'engine-size' and 'price':\n"
   ]
  },
  {
   "cell_type": "code",
   "execution_count": 13,
   "id": "98a20803-3b12-471d-89b0-de0d7347c849",
   "metadata": {},
   "outputs": [
    {
     "name": "stdout",
     "output_type": "stream",
     "text": [
      "The Pearson Correlation Coefficient is 0.8892001115164775  with a P-value of P = 2.690999366963704e-45\n"
     ]
    }
   ],
   "source": [
    "pearson_coef, p_value = stats.pearsonr(df['engine-size'], df['price'])\n",
    "print(\"The Pearson Correlation Coefficient is\", pearson_coef, \" with a P-value of P =\", p_value) "
   ]
  },
  {
   "cell_type": "markdown",
   "id": "e512834e-59c0-46b3-8709-ffa0c1e41c56",
   "metadata": {},
   "source": [
    "Conclusion:\n",
    "\n",
    "Since the p-value is <0.001, the correlation between engine-size and price is statistically significant, and the linear relationship is very strong (~0.872)."
   ]
  },
  {
   "cell_type": "markdown",
   "id": "6ab072ee-d19c-4e0c-8831-951d712104c9",
   "metadata": {},
   "source": [
    "Bore vs. Price\n",
    "\n",
    "Let's calculate the Pearson Correlation Coefficient and P-value of 'bore' and 'price':\n"
   ]
  },
  {
   "cell_type": "code",
   "execution_count": 14,
   "id": "267691b5-9f20-48eb-b6bc-27369d2466a0",
   "metadata": {},
   "outputs": [
    {
     "name": "stdout",
     "output_type": "stream",
     "text": [
      "The Pearson Correlation Coefficient is 0.5632282630129494  with a P-value of P =   3.0451365719945618e-12\n"
     ]
    }
   ],
   "source": [
    "pearson_coef, p_value = stats.pearsonr(df['bore'], df['price'])\n",
    "print(\"The Pearson Correlation Coefficient is\", pearson_coef, \" with a P-value of P =  \", p_value ) "
   ]
  },
  {
   "cell_type": "markdown",
   "id": "e62132dc-5d27-486c-9a43-58e04a0baa84",
   "metadata": {},
   "source": [
    "Conclusion:\n",
    "\n",
    "Since the p-value is <0.001, the correlation between bore and price is statistically significant, but the linear relationship is only moderate (~0.521).\n",
    "\n",
    "We can relate the process for each 'city-mpg' and 'highway-mpg':\n"
   ]
  },
  {
   "cell_type": "markdown",
   "id": "1bd4e3b9-8849-43ec-b1cd-144b9df86666",
   "metadata": {},
   "source": [
    "City-mpg vs. Price"
   ]
  },
  {
   "cell_type": "code",
   "execution_count": 15,
   "id": "1a15ca7b-3fec-4006-92ca-0b1fe209fea5",
   "metadata": {},
   "outputs": [
    {
     "name": "stdout",
     "output_type": "stream",
     "text": [
      "The Pearson Correlation Coefficient is -0.7064618349061609  with a P-value of P =  6.023105087635934e-21\n"
     ]
    }
   ],
   "source": [
    "pearson_coef, p_value = stats.pearsonr(df['city-mpg'], df['price'])\n",
    "print(\"The Pearson Correlation Coefficient is\", pearson_coef, \" with a P-value of P = \", p_value)  "
   ]
  },
  {
   "cell_type": "markdown",
   "id": "af01e0fe-1651-46de-9a6c-742305532456",
   "metadata": {},
   "source": [
    "Conclusion:\n",
    "\n",
    "Since the p-value is <0.001, the correlation between city-mpg and price is statistically significant, and the coefficient of about -0.687 shows that the relationship is negative and moderately strong."
   ]
  },
  {
   "cell_type": "markdown",
   "id": "41b71064-5721-4cee-a44f-df50523e4e95",
   "metadata": {},
   "source": [
    "Highway-mpg vs. Price\n"
   ]
  },
  {
   "cell_type": "code",
   "execution_count": 16,
   "id": "b1c87cb4-bde9-48dd-b3d7-323291450025",
   "metadata": {},
   "outputs": [
    {
     "name": "stdout",
     "output_type": "stream",
     "text": [
      "The Pearson Correlation Coefficient is -0.7339950747419518  with a P-value of P =  2.957881570195919e-23\n"
     ]
    }
   ],
   "source": [
    "pearson_coef, p_value = stats.pearsonr(df['highway-mpg'], df['price'])\n",
    "print( \"The Pearson Correlation Coefficient is\", pearson_coef, \" with a P-value of P = \", p_value ) "
   ]
  },
  {
   "cell_type": "markdown",
   "id": "b2735661-624c-4107-b14a-a73c89adc8ec",
   "metadata": {},
   "source": [
    "Conclusion:\n",
    "\n",
    "Since the p-value is < 0.001, the correlation between highway-mpg and price is statistically significant, and the coefficient of about -0.705 shows that the relationship is negative and moderately strong.\n"
   ]
  },
  {
   "cell_type": "markdown",
   "id": "96b2733c-34bc-43db-878b-4e9ef03ff51c",
   "metadata": {
    "tags": []
   },
   "source": [
    "<h3>ANOVA: Analysis of Variance</h3>\n",
    "\n",
    "The Analysis of Variance (ANOVA) is a statistical method used to test whether there are significant differences between the means of two or more groups. ANOVA returns two parameters:\n",
    "\n",
    "F-test score: ANOVA assumes the means of all groups are the same, calculates how much the actual means deviate from the assumption, and reports it as the F-test score. A larger score means there is a larger difference between the means.\n",
    "\n",
    "P-value: P-value tells how statistically significant our calculated score value is.\n",
    "\n",
    "If our price variable is strongly correlated with the variable we are analyzing, we expect ANOVA to return a sizeable F-test score and a small p-value.\n"
   ]
  },
  {
   "cell_type": "markdown",
   "id": "e26b5e42-6f38-4186-8cb4-55d60f8f8391",
   "metadata": {},
   "source": [
    "Drive Wheels\n",
    "\n",
    "Since ANOVA analyzes the difference between different groups of the same variable, the groupby function will come in handy. Because the ANOVA algorithm averages the data automatically, we do not need to take the average before hand.\n",
    "\n",
    "To see if different types of 'drive-wheels' impact 'price', we group the data.\n",
    "\n",
    "First we create a data frame from the dataset containing the promising categorical values as 'df_gptest'.\n"
   ]
  },
  {
   "cell_type": "code",
   "execution_count": 17,
   "id": "0c4ecc07-629e-433b-9784-890ce6ad2a54",
   "metadata": {},
   "outputs": [
    {
     "data": {
      "text/html": [
       "<div>\n",
       "<style scoped>\n",
       "    .dataframe tbody tr th:only-of-type {\n",
       "        vertical-align: middle;\n",
       "    }\n",
       "\n",
       "    .dataframe tbody tr th {\n",
       "        vertical-align: top;\n",
       "    }\n",
       "\n",
       "    .dataframe thead th {\n",
       "        text-align: right;\n",
       "    }\n",
       "</style>\n",
       "<table border=\"1\" class=\"dataframe\">\n",
       "  <thead>\n",
       "    <tr style=\"text-align: right;\">\n",
       "      <th></th>\n",
       "      <th>drive-wheels</th>\n",
       "      <th>price</th>\n",
       "    </tr>\n",
       "  </thead>\n",
       "  <tbody>\n",
       "    <tr>\n",
       "      <th>0</th>\n",
       "      <td>rwd</td>\n",
       "      <td>13495</td>\n",
       "    </tr>\n",
       "    <tr>\n",
       "      <th>1</th>\n",
       "      <td>rwd</td>\n",
       "      <td>16500</td>\n",
       "    </tr>\n",
       "    <tr>\n",
       "      <th>3</th>\n",
       "      <td>fwd</td>\n",
       "      <td>13950</td>\n",
       "    </tr>\n",
       "    <tr>\n",
       "      <th>4</th>\n",
       "      <td>4wd</td>\n",
       "      <td>17450</td>\n",
       "    </tr>\n",
       "    <tr>\n",
       "      <th>5</th>\n",
       "      <td>fwd</td>\n",
       "      <td>15250</td>\n",
       "    </tr>\n",
       "    <tr>\n",
       "      <th>87</th>\n",
       "      <td>4wd</td>\n",
       "      <td>7603</td>\n",
       "    </tr>\n",
       "  </tbody>\n",
       "</table>\n",
       "</div>"
      ],
      "text/plain": [
       "   drive-wheels  price\n",
       "0           rwd  13495\n",
       "1           rwd  16500\n",
       "3           fwd  13950\n",
       "4           4wd  17450\n",
       "5           fwd  15250\n",
       "87          4wd   7603"
      ]
     },
     "execution_count": 17,
     "metadata": {},
     "output_type": "execute_result"
    }
   ],
   "source": [
    "df_gptest = df[['drive-wheels','engine-location','engine-type','num-of-cylinders','fuel-system','body-style','price']]\n",
    "grouped_test2=df_gptest[['drive-wheels', 'price']].groupby(['drive-wheels'])\n",
    "grouped_test2.head(2)"
   ]
  },
  {
   "cell_type": "code",
   "execution_count": 18,
   "id": "c24a7263-4201-4be4-9e98-fe55eddbe838",
   "metadata": {},
   "outputs": [
    {
     "name": "stdout",
     "output_type": "stream",
     "text": [
      "ANOVA results: F= 40.251291357052544 , P = 2.8876437412053394e-14\n"
     ]
    }
   ],
   "source": [
    "f_val, p_val = stats.f_oneway(grouped_test2.get_group('fwd')['price'], grouped_test2.get_group('rwd')['price'], grouped_test2.get_group('4wd')['price'])  \n",
    " \n",
    "print( \"ANOVA results: F=\", f_val, \", P =\", p_val)   "
   ]
  },
  {
   "cell_type": "markdown",
   "id": "f693fe9d-15ca-4715-81bb-0b26e51b652e",
   "metadata": {},
   "source": [
    "This is a great result with a large F-test score showing a strong correlation and a P-value of almost 0 implying almost certain statistical significance. But does this mean all three tested groups are all this highly correlated?\n",
    "\n",
    "Let's examine them separately.\n"
   ]
  },
  {
   "cell_type": "markdown",
   "id": "7db37c48-8f64-4d54-8c9c-6904c079089f",
   "metadata": {},
   "source": [
    "FWD vs RWD"
   ]
  },
  {
   "cell_type": "code",
   "execution_count": 19,
   "id": "8e3bf547-c905-450b-b91f-e33cebf361b5",
   "metadata": {},
   "outputs": [
    {
     "name": "stdout",
     "output_type": "stream",
     "text": [
      "ANOVA results: F= 80.7265083140164 , P = 3.186566267213619e-15\n"
     ]
    }
   ],
   "source": [
    "f_val, p_val = stats.f_oneway(grouped_test2.get_group('fwd')['price'], grouped_test2.get_group('rwd')['price'])  \n",
    " \n",
    "print( \"ANOVA results: F=\", f_val, \", P =\", p_val )"
   ]
  },
  {
   "cell_type": "markdown",
   "id": "f3b6be14-771c-41fd-9445-389cb355399e",
   "metadata": {},
   "source": [
    "4WD vs RWD"
   ]
  },
  {
   "cell_type": "code",
   "execution_count": 20,
   "id": "15a977b3-4445-4d3e-ba5c-82dd0b8fc30c",
   "metadata": {},
   "outputs": [
    {
     "name": "stdout",
     "output_type": "stream",
     "text": [
      "ANOVA results: F= 1.0847780182854088 , P = 0.30307441475273617\n"
     ]
    }
   ],
   "source": [
    "f_val, p_val = stats.f_oneway(grouped_test2.get_group('4wd')['price'], grouped_test2.get_group('rwd')['price'])  \n",
    "   \n",
    "print( \"ANOVA results: F=\", f_val, \", P =\", p_val)  "
   ]
  },
  {
   "cell_type": "markdown",
   "id": "473ebde0-86d4-43be-b5a1-24d2da1be91a",
   "metadata": {},
   "source": [
    "4WD vs FWD"
   ]
  },
  {
   "cell_type": "code",
   "execution_count": 21,
   "id": "b9178357-5c6f-4677-8990-cfee277393bf",
   "metadata": {},
   "outputs": [
    {
     "name": "stdout",
     "output_type": "stream",
     "text": [
      "ANOVA results: F= 1.5789573224978852 , P = 0.21247882348856417\n"
     ]
    }
   ],
   "source": [
    "f_val, p_val = stats.f_oneway(grouped_test2.get_group('4wd')['price'], grouped_test2.get_group('fwd')['price'])  \n",
    " \n",
    "print(\"ANOVA results: F=\", f_val, \", P =\", p_val)   "
   ]
  },
  {
   "cell_type": "markdown",
   "id": "8073fafe-66b2-43cd-9b2d-958b0d28c132",
   "metadata": {},
   "source": [
    "We can see that only the FWD vs RWD shows a strong correlation as well as statistical significance."
   ]
  },
  {
   "cell_type": "markdown",
   "id": "ebb1c174-a389-45a6-9b0b-f28f8c3d03ac",
   "metadata": {},
   "source": [
    "Now, let's try for the other categorical values."
   ]
  },
  {
   "cell_type": "markdown",
   "id": "4d274e97-fbd7-421a-b1e6-2cb21fe37306",
   "metadata": {},
   "source": [
    "Engine-location"
   ]
  },
  {
   "cell_type": "code",
   "execution_count": 22,
   "id": "d2272444-948f-4787-bcab-d9ccfeb6dc6f",
   "metadata": {},
   "outputs": [
    {
     "data": {
      "text/html": [
       "<div>\n",
       "<style scoped>\n",
       "    .dataframe tbody tr th:only-of-type {\n",
       "        vertical-align: middle;\n",
       "    }\n",
       "\n",
       "    .dataframe tbody tr th {\n",
       "        vertical-align: top;\n",
       "    }\n",
       "\n",
       "    .dataframe thead th {\n",
       "        text-align: right;\n",
       "    }\n",
       "</style>\n",
       "<table border=\"1\" class=\"dataframe\">\n",
       "  <thead>\n",
       "    <tr style=\"text-align: right;\">\n",
       "      <th></th>\n",
       "      <th>engine-location</th>\n",
       "      <th>price</th>\n",
       "    </tr>\n",
       "  </thead>\n",
       "  <tbody>\n",
       "    <tr>\n",
       "      <th>0</th>\n",
       "      <td>front</td>\n",
       "      <td>13495</td>\n",
       "    </tr>\n",
       "    <tr>\n",
       "      <th>1</th>\n",
       "      <td>front</td>\n",
       "      <td>16500</td>\n",
       "    </tr>\n",
       "    <tr>\n",
       "      <th>76</th>\n",
       "      <td>rear</td>\n",
       "      <td>32528</td>\n",
       "    </tr>\n",
       "    <tr>\n",
       "      <th>77</th>\n",
       "      <td>rear</td>\n",
       "      <td>34028</td>\n",
       "    </tr>\n",
       "  </tbody>\n",
       "</table>\n",
       "</div>"
      ],
      "text/plain": [
       "   engine-location  price\n",
       "0            front  13495\n",
       "1            front  16500\n",
       "76            rear  32528\n",
       "77            rear  34028"
      ]
     },
     "execution_count": 22,
     "metadata": {},
     "output_type": "execute_result"
    }
   ],
   "source": [
    "grouped_test2=df_gptest[['engine-location', 'price']].groupby(['engine-location'])\n",
    "grouped_test2.head(2)"
   ]
  },
  {
   "cell_type": "code",
   "execution_count": 23,
   "id": "fa5d082f-d694-48d3-89f2-9aa4631f9caf",
   "metadata": {},
   "outputs": [
    {
     "name": "stdout",
     "output_type": "stream",
     "text": [
      "ANOVA results: F= 31.392210037322467 , P = 1.2335318028697013e-07\n"
     ]
    }
   ],
   "source": [
    "f_val, p_val = stats.f_oneway(grouped_test2.get_group('front')['price'], grouped_test2.get_group('rear')['price'])  \n",
    " \n",
    "print( \"ANOVA results: F=\", f_val, \", P =\", p_val)  "
   ]
  },
  {
   "cell_type": "markdown",
   "id": "5c9a7a93-ac83-470a-9480-e0091c8a7313",
   "metadata": {},
   "source": [
    "Conclusion: A large F-test score shows a strong correlation and a P-value of almost 0 means there is statistical significance."
   ]
  },
  {
   "cell_type": "markdown",
   "id": "32b59dd8-673e-4858-9529-b7802b6f45c3",
   "metadata": {},
   "source": [
    "Engine type"
   ]
  },
  {
   "cell_type": "code",
   "execution_count": 24,
   "id": "71fbcbda-589f-4779-885a-37f6e5dea888",
   "metadata": {},
   "outputs": [
    {
     "data": {
      "text/html": [
       "<div>\n",
       "<style scoped>\n",
       "    .dataframe tbody tr th:only-of-type {\n",
       "        vertical-align: middle;\n",
       "    }\n",
       "\n",
       "    .dataframe tbody tr th {\n",
       "        vertical-align: top;\n",
       "    }\n",
       "\n",
       "    .dataframe thead th {\n",
       "        text-align: right;\n",
       "    }\n",
       "</style>\n",
       "<table border=\"1\" class=\"dataframe\">\n",
       "  <thead>\n",
       "    <tr style=\"text-align: right;\">\n",
       "      <th></th>\n",
       "      <th>engine-type</th>\n",
       "      <th>price</th>\n",
       "    </tr>\n",
       "  </thead>\n",
       "  <tbody>\n",
       "    <tr>\n",
       "      <th>0</th>\n",
       "      <td>dohc</td>\n",
       "      <td>13495</td>\n",
       "    </tr>\n",
       "    <tr>\n",
       "      <th>1</th>\n",
       "      <td>dohc</td>\n",
       "      <td>16500</td>\n",
       "    </tr>\n",
       "    <tr>\n",
       "      <th>2</th>\n",
       "      <td>ohcv</td>\n",
       "      <td>16500</td>\n",
       "    </tr>\n",
       "    <tr>\n",
       "      <th>3</th>\n",
       "      <td>ohc</td>\n",
       "      <td>13950</td>\n",
       "    </tr>\n",
       "    <tr>\n",
       "      <th>4</th>\n",
       "      <td>ohc</td>\n",
       "      <td>17450</td>\n",
       "    </tr>\n",
       "    <tr>\n",
       "      <th>11</th>\n",
       "      <td>l</td>\n",
       "      <td>5151</td>\n",
       "    </tr>\n",
       "    <tr>\n",
       "      <th>38</th>\n",
       "      <td>ohcv</td>\n",
       "      <td>34184</td>\n",
       "    </tr>\n",
       "    <tr>\n",
       "      <th>76</th>\n",
       "      <td>ohcf</td>\n",
       "      <td>32528</td>\n",
       "    </tr>\n",
       "    <tr>\n",
       "      <th>77</th>\n",
       "      <td>ohcf</td>\n",
       "      <td>34028</td>\n",
       "    </tr>\n",
       "  </tbody>\n",
       "</table>\n",
       "</div>"
      ],
      "text/plain": [
       "   engine-type  price\n",
       "0         dohc  13495\n",
       "1         dohc  16500\n",
       "2         ohcv  16500\n",
       "3          ohc  13950\n",
       "4          ohc  17450\n",
       "11           l   5151\n",
       "38        ohcv  34184\n",
       "76        ohcf  32528\n",
       "77        ohcf  34028"
      ]
     },
     "execution_count": 24,
     "metadata": {},
     "output_type": "execute_result"
    }
   ],
   "source": [
    "grouped_test2=df_gptest[['engine-type', 'price']].groupby(['engine-type'])\n",
    "grouped_test2.head(2)"
   ]
  },
  {
   "cell_type": "code",
   "execution_count": 25,
   "id": "1b91128a-bde7-4285-aa91-a259610c7b94",
   "metadata": {},
   "outputs": [
    {
     "name": "stdout",
     "output_type": "stream",
     "text": [
      "ANOVA results: F= 12.867632233147496 , P = 8.391203012529898e-09\n"
     ]
    }
   ],
   "source": [
    "f_val, p_val = stats.f_oneway(grouped_test2.get_group('dohc')['price'], grouped_test2.get_group('ohcv')['price'], grouped_test2.get_group('ohc')['price'], grouped_test2.get_group('l')['price'], grouped_test2.get_group('ohcf')['price'])  \n",
    " \n",
    "print( \"ANOVA results: F=\", f_val, \", P =\", p_val) "
   ]
  },
  {
   "cell_type": "markdown",
   "id": "81be729d-8d8e-44fd-8175-5de25198d69d",
   "metadata": {},
   "source": [
    "Conclusion: Although a small P-value, there isn't much correlation due to a small F-score."
   ]
  },
  {
   "cell_type": "markdown",
   "id": "691ecbb2-3293-45d6-871a-81d59ac1fcf4",
   "metadata": {},
   "source": [
    "Number of Cylinders"
   ]
  },
  {
   "cell_type": "code",
   "execution_count": 26,
   "id": "fffccd41-ded5-47aa-8949-dde69869e02f",
   "metadata": {},
   "outputs": [
    {
     "data": {
      "text/html": [
       "<div>\n",
       "<style scoped>\n",
       "    .dataframe tbody tr th:only-of-type {\n",
       "        vertical-align: middle;\n",
       "    }\n",
       "\n",
       "    .dataframe tbody tr th {\n",
       "        vertical-align: top;\n",
       "    }\n",
       "\n",
       "    .dataframe thead th {\n",
       "        text-align: right;\n",
       "    }\n",
       "</style>\n",
       "<table border=\"1\" class=\"dataframe\">\n",
       "  <thead>\n",
       "    <tr style=\"text-align: right;\">\n",
       "      <th></th>\n",
       "      <th>num-of-cylinders</th>\n",
       "      <th>price</th>\n",
       "    </tr>\n",
       "  </thead>\n",
       "  <tbody>\n",
       "    <tr>\n",
       "      <th>0</th>\n",
       "      <td>four</td>\n",
       "      <td>13495</td>\n",
       "    </tr>\n",
       "    <tr>\n",
       "      <th>1</th>\n",
       "      <td>four</td>\n",
       "      <td>16500</td>\n",
       "    </tr>\n",
       "    <tr>\n",
       "      <th>2</th>\n",
       "      <td>six</td>\n",
       "      <td>16500</td>\n",
       "    </tr>\n",
       "    <tr>\n",
       "      <th>4</th>\n",
       "      <td>five</td>\n",
       "      <td>17450</td>\n",
       "    </tr>\n",
       "    <tr>\n",
       "      <th>5</th>\n",
       "      <td>five</td>\n",
       "      <td>15250</td>\n",
       "    </tr>\n",
       "    <tr>\n",
       "      <th>10</th>\n",
       "      <td>six</td>\n",
       "      <td>24565</td>\n",
       "    </tr>\n",
       "    <tr>\n",
       "      <th>11</th>\n",
       "      <td>three</td>\n",
       "      <td>5151</td>\n",
       "    </tr>\n",
       "    <tr>\n",
       "      <th>38</th>\n",
       "      <td>eight</td>\n",
       "      <td>34184</td>\n",
       "    </tr>\n",
       "    <tr>\n",
       "      <th>39</th>\n",
       "      <td>eight</td>\n",
       "      <td>35056</td>\n",
       "    </tr>\n",
       "  </tbody>\n",
       "</table>\n",
       "</div>"
      ],
      "text/plain": [
       "   num-of-cylinders  price\n",
       "0              four  13495\n",
       "1              four  16500\n",
       "2               six  16500\n",
       "4              five  17450\n",
       "5              five  15250\n",
       "10              six  24565\n",
       "11            three   5151\n",
       "38            eight  34184\n",
       "39            eight  35056"
      ]
     },
     "execution_count": 26,
     "metadata": {},
     "output_type": "execute_result"
    }
   ],
   "source": [
    "grouped_test2=df_gptest[['num-of-cylinders', 'price']].groupby(['num-of-cylinders'])\n",
    "grouped_test2.head(2)"
   ]
  },
  {
   "cell_type": "code",
   "execution_count": 27,
   "id": "480cf8c4-8e55-4d01-8b02-58d0b38b058b",
   "metadata": {},
   "outputs": [
    {
     "name": "stdout",
     "output_type": "stream",
     "text": [
      "ANOVA results: F= 53.766708831915295 , P = 2.765974813131859e-26\n"
     ]
    }
   ],
   "source": [
    "f_val, p_val = stats.f_oneway(grouped_test2.get_group('three')['price'], grouped_test2.get_group('four')['price'], grouped_test2.get_group('five')['price'], grouped_test2.get_group('six')['price'], grouped_test2.get_group('eight')['price'])  \n",
    " \n",
    "print( \"ANOVA results: F=\", f_val, \", P =\", p_val)   "
   ]
  },
  {
   "cell_type": "markdown",
   "id": "08e356bc-df66-426f-9d75-8b49abb14131",
   "metadata": {},
   "source": [
    "Conclusion: A large F-test score shows a strong correlation and a P-value of almost 0 means there is statistical significance."
   ]
  },
  {
   "cell_type": "markdown",
   "id": "b7be3a73-19f1-4ae4-a462-959473789187",
   "metadata": {},
   "source": [
    "Fuel-system"
   ]
  },
  {
   "cell_type": "code",
   "execution_count": 28,
   "id": "60ec2434-8b83-453b-b363-2eb53d4e3832",
   "metadata": {},
   "outputs": [
    {
     "data": {
      "text/html": [
       "<div>\n",
       "<style scoped>\n",
       "    .dataframe tbody tr th:only-of-type {\n",
       "        vertical-align: middle;\n",
       "    }\n",
       "\n",
       "    .dataframe tbody tr th {\n",
       "        vertical-align: top;\n",
       "    }\n",
       "\n",
       "    .dataframe thead th {\n",
       "        text-align: right;\n",
       "    }\n",
       "</style>\n",
       "<table border=\"1\" class=\"dataframe\">\n",
       "  <thead>\n",
       "    <tr style=\"text-align: right;\">\n",
       "      <th></th>\n",
       "      <th>fuel-system</th>\n",
       "      <th>price</th>\n",
       "    </tr>\n",
       "  </thead>\n",
       "  <tbody>\n",
       "    <tr>\n",
       "      <th>0</th>\n",
       "      <td>mpfi</td>\n",
       "      <td>13495</td>\n",
       "    </tr>\n",
       "    <tr>\n",
       "      <th>1</th>\n",
       "      <td>mpfi</td>\n",
       "      <td>16500</td>\n",
       "    </tr>\n",
       "    <tr>\n",
       "      <th>11</th>\n",
       "      <td>2bbl</td>\n",
       "      <td>5151</td>\n",
       "    </tr>\n",
       "    <tr>\n",
       "      <th>12</th>\n",
       "      <td>2bbl</td>\n",
       "      <td>6295</td>\n",
       "    </tr>\n",
       "    <tr>\n",
       "      <th>20</th>\n",
       "      <td>mfi</td>\n",
       "      <td>12964</td>\n",
       "    </tr>\n",
       "    <tr>\n",
       "      <th>21</th>\n",
       "      <td>1bbl</td>\n",
       "      <td>6479</td>\n",
       "    </tr>\n",
       "    <tr>\n",
       "      <th>22</th>\n",
       "      <td>1bbl</td>\n",
       "      <td>6855</td>\n",
       "    </tr>\n",
       "    <tr>\n",
       "      <th>27</th>\n",
       "      <td>spfi</td>\n",
       "      <td>11048</td>\n",
       "    </tr>\n",
       "    <tr>\n",
       "      <th>35</th>\n",
       "      <td>idi</td>\n",
       "      <td>25552</td>\n",
       "    </tr>\n",
       "    <tr>\n",
       "      <th>36</th>\n",
       "      <td>idi</td>\n",
       "      <td>28248</td>\n",
       "    </tr>\n",
       "    <tr>\n",
       "      <th>45</th>\n",
       "      <td>spdi</td>\n",
       "      <td>7689</td>\n",
       "    </tr>\n",
       "    <tr>\n",
       "      <th>46</th>\n",
       "      <td>spdi</td>\n",
       "      <td>9959</td>\n",
       "    </tr>\n",
       "  </tbody>\n",
       "</table>\n",
       "</div>"
      ],
      "text/plain": [
       "   fuel-system  price\n",
       "0         mpfi  13495\n",
       "1         mpfi  16500\n",
       "11        2bbl   5151\n",
       "12        2bbl   6295\n",
       "20         mfi  12964\n",
       "21        1bbl   6479\n",
       "22        1bbl   6855\n",
       "27        spfi  11048\n",
       "35         idi  25552\n",
       "36         idi  28248\n",
       "45        spdi   7689\n",
       "46        spdi   9959"
      ]
     },
     "execution_count": 28,
     "metadata": {},
     "output_type": "execute_result"
    }
   ],
   "source": [
    "grouped_test2=df_gptest[['fuel-system', 'price']].groupby(['fuel-system'])\n",
    "grouped_test2.head(2)"
   ]
  },
  {
   "cell_type": "code",
   "execution_count": 29,
   "id": "4ae24150-9f36-4fda-bba5-11dac45ab2db",
   "metadata": {},
   "outputs": [
    {
     "name": "stdout",
     "output_type": "stream",
     "text": [
      "ANOVA results: F= 12.65319808729073 , P = 4.4057464475211666e-11\n"
     ]
    }
   ],
   "source": [
    "f_val, p_val = stats.f_oneway(grouped_test2.get_group('mpfi')['price'], grouped_test2.get_group('2bbl')['price'], grouped_test2.get_group('mfi')['price'], grouped_test2.get_group('1bbl')['price'], grouped_test2.get_group('spfi')['price'],grouped_test2.get_group('idi')['price'],grouped_test2.get_group('spdi')['price'])  \n",
    " \n",
    "print( \"ANOVA results: F=\", f_val, \", P =\", p_val) "
   ]
  },
  {
   "cell_type": "markdown",
   "id": "c9f0f9a0-a784-4aec-a137-4172f2687ffa",
   "metadata": {},
   "source": [
    "Conclusion: Although a small P-value, there isn't much correlation due to a small F-score."
   ]
  },
  {
   "cell_type": "markdown",
   "id": "8eb0772e-4a85-424e-a0a5-ec13c1bbb6f2",
   "metadata": {},
   "source": [
    "Body Style"
   ]
  },
  {
   "cell_type": "code",
   "execution_count": 30,
   "id": "1ecd070e-6d90-43dc-88e4-a7d155fb0def",
   "metadata": {},
   "outputs": [
    {
     "data": {
      "text/html": [
       "<div>\n",
       "<style scoped>\n",
       "    .dataframe tbody tr th:only-of-type {\n",
       "        vertical-align: middle;\n",
       "    }\n",
       "\n",
       "    .dataframe tbody tr th {\n",
       "        vertical-align: top;\n",
       "    }\n",
       "\n",
       "    .dataframe thead th {\n",
       "        text-align: right;\n",
       "    }\n",
       "</style>\n",
       "<table border=\"1\" class=\"dataframe\">\n",
       "  <thead>\n",
       "    <tr style=\"text-align: right;\">\n",
       "      <th></th>\n",
       "      <th>body-style</th>\n",
       "      <th>price</th>\n",
       "    </tr>\n",
       "  </thead>\n",
       "  <tbody>\n",
       "    <tr>\n",
       "      <th>0</th>\n",
       "      <td>convertible</td>\n",
       "      <td>13495</td>\n",
       "    </tr>\n",
       "    <tr>\n",
       "      <th>1</th>\n",
       "      <td>convertible</td>\n",
       "      <td>16500</td>\n",
       "    </tr>\n",
       "    <tr>\n",
       "      <th>2</th>\n",
       "      <td>hatchback</td>\n",
       "      <td>16500</td>\n",
       "    </tr>\n",
       "    <tr>\n",
       "      <th>3</th>\n",
       "      <td>sedan</td>\n",
       "      <td>13950</td>\n",
       "    </tr>\n",
       "    <tr>\n",
       "      <th>4</th>\n",
       "      <td>sedan</td>\n",
       "      <td>17450</td>\n",
       "    </tr>\n",
       "    <tr>\n",
       "      <th>7</th>\n",
       "      <td>wagon</td>\n",
       "      <td>18920</td>\n",
       "    </tr>\n",
       "    <tr>\n",
       "      <th>11</th>\n",
       "      <td>hatchback</td>\n",
       "      <td>5151</td>\n",
       "    </tr>\n",
       "    <tr>\n",
       "      <th>19</th>\n",
       "      <td>wagon</td>\n",
       "      <td>8921</td>\n",
       "    </tr>\n",
       "    <tr>\n",
       "      <th>40</th>\n",
       "      <td>hardtop</td>\n",
       "      <td>45400</td>\n",
       "    </tr>\n",
       "    <tr>\n",
       "      <th>64</th>\n",
       "      <td>hardtop</td>\n",
       "      <td>8249</td>\n",
       "    </tr>\n",
       "  </tbody>\n",
       "</table>\n",
       "</div>"
      ],
      "text/plain": [
       "     body-style  price\n",
       "0   convertible  13495\n",
       "1   convertible  16500\n",
       "2     hatchback  16500\n",
       "3         sedan  13950\n",
       "4         sedan  17450\n",
       "7         wagon  18920\n",
       "11    hatchback   5151\n",
       "19        wagon   8921\n",
       "40      hardtop  45400\n",
       "64      hardtop   8249"
      ]
     },
     "execution_count": 30,
     "metadata": {},
     "output_type": "execute_result"
    }
   ],
   "source": [
    "grouped_test2=df_gptest[['body-style', 'price']].groupby(['body-style'])\n",
    "grouped_test2.head(2)"
   ]
  },
  {
   "cell_type": "code",
   "execution_count": 31,
   "id": "5f2e23af-6394-4005-a227-d2d9f0ccc4bd",
   "metadata": {},
   "outputs": [
    {
     "name": "stdout",
     "output_type": "stream",
     "text": [
      "ANOVA results: F= 7.949421024701909 , P = 9.63971484925619e-06\n"
     ]
    }
   ],
   "source": [
    "f_val, p_val = stats.f_oneway(grouped_test2.get_group('convertible')['price'], grouped_test2.get_group('hatchback')['price'], grouped_test2.get_group('sedan')['price'], grouped_test2.get_group('wagon')['price'], grouped_test2.get_group('hardtop')['price'])  \n",
    " \n",
    "print( \"ANOVA results: F=\", f_val, \", P =\", p_val) "
   ]
  },
  {
   "cell_type": "markdown",
   "id": "efd8d3bb-524d-49c5-ba72-53680035b33a",
   "metadata": {},
   "source": [
    "Conclusion: Although a small P-value, there isn't much correlation due to a small F-score."
   ]
  },
  {
   "cell_type": "markdown",
   "id": "e6406e05-c7d3-47d8-9c7e-8cac2e480c6e",
   "metadata": {},
   "source": [
    "<h2>Conclusion: Important Variables</h2>\n",
    "\n",
    "We now have a better idea of what our data looks like and which variables are important to take into account when predicting the car price. We have narrowed it down to the following variables:\n",
    "\n",
    "Continuous numerical variables:\n",
    "\n",
    "    Length\n",
    "    Width\n",
    "    Curb-weight\n",
    "    Engine-size\n",
    "    Horsepower\n",
    "    City-mpg\n",
    "    Highway-mpg\n",
    "    Wheel-base\n",
    "    Bore\n",
    "\n",
    "Categorical variables:\n",
    "\n",
    "    Drive-wheels\n",
    "    Num-of-cylinders\n",
    "    Engine-location"
   ]
  }
 ],
 "metadata": {
  "kernelspec": {
   "display_name": "Python 3 (ipykernel)",
   "language": "python",
   "name": "python3"
  },
  "language_info": {
   "codemirror_mode": {
    "name": "ipython",
    "version": 3
   },
   "file_extension": ".py",
   "mimetype": "text/x-python",
   "name": "python",
   "nbconvert_exporter": "python",
   "pygments_lexer": "ipython3",
   "version": "3.9.7"
  }
 },
 "nbformat": 4,
 "nbformat_minor": 5
}
